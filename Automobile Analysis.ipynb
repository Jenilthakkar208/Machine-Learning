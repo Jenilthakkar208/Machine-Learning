{
 "cells": [
  {
   "cell_type": "markdown",
   "id": "b3b86ad8",
   "metadata": {},
   "source": [
    "# ______________Autombile Analysis_______"
   ]
  },
  {
   "cell_type": "markdown",
   "id": "67cfc916",
   "metadata": {},
   "source": [
    "## Importing Basic Libraries Pandas,Numpy and Data file to start with"
   ]
  },
  {
   "cell_type": "code",
   "execution_count": 1,
   "id": "6660e163",
   "metadata": {},
   "outputs": [],
   "source": [
    "import pandas as pd\n",
    "import numpy as np"
   ]
  },
  {
   "cell_type": "code",
   "execution_count": 2,
   "id": "91565c92",
   "metadata": {},
   "outputs": [
    {
     "data": {
      "text/html": [
       "<div>\n",
       "<style scoped>\n",
       "    .dataframe tbody tr th:only-of-type {\n",
       "        vertical-align: middle;\n",
       "    }\n",
       "\n",
       "    .dataframe tbody tr th {\n",
       "        vertical-align: top;\n",
       "    }\n",
       "\n",
       "    .dataframe thead th {\n",
       "        text-align: right;\n",
       "    }\n",
       "</style>\n",
       "<table border=\"1\" class=\"dataframe\">\n",
       "  <thead>\n",
       "    <tr style=\"text-align: right;\">\n",
       "      <th></th>\n",
       "      <th>risk factor</th>\n",
       "      <th>losses</th>\n",
       "      <th>make</th>\n",
       "      <th>type of fuel</th>\n",
       "      <th>aspiration</th>\n",
       "      <th>total doors</th>\n",
       "      <th>body</th>\n",
       "      <th>wheels</th>\n",
       "      <th>location of engine</th>\n",
       "      <th>wheel base</th>\n",
       "      <th>...</th>\n",
       "      <th>size of engine</th>\n",
       "      <th>system of fuel</th>\n",
       "      <th>bore</th>\n",
       "      <th>stroke</th>\n",
       "      <th>ratio of comprehenssion</th>\n",
       "      <th>horsepower</th>\n",
       "      <th>peak-rpm</th>\n",
       "      <th>mpg in city</th>\n",
       "      <th>mpg on highway</th>\n",
       "      <th>total price</th>\n",
       "    </tr>\n",
       "  </thead>\n",
       "  <tbody>\n",
       "    <tr>\n",
       "      <th>0</th>\n",
       "      <td>3</td>\n",
       "      <td>?</td>\n",
       "      <td>alfa-romero</td>\n",
       "      <td>gas</td>\n",
       "      <td>std</td>\n",
       "      <td>two</td>\n",
       "      <td>convertible</td>\n",
       "      <td>rwd</td>\n",
       "      <td>front</td>\n",
       "      <td>88.6</td>\n",
       "      <td>...</td>\n",
       "      <td>130</td>\n",
       "      <td>mpfi</td>\n",
       "      <td>3.47</td>\n",
       "      <td>2.68</td>\n",
       "      <td>9.0</td>\n",
       "      <td>111</td>\n",
       "      <td>5000</td>\n",
       "      <td>21</td>\n",
       "      <td>27</td>\n",
       "      <td>13495</td>\n",
       "    </tr>\n",
       "    <tr>\n",
       "      <th>1</th>\n",
       "      <td>3</td>\n",
       "      <td>?</td>\n",
       "      <td>alfa-romero</td>\n",
       "      <td>gas</td>\n",
       "      <td>std</td>\n",
       "      <td>two</td>\n",
       "      <td>convertible</td>\n",
       "      <td>rwd</td>\n",
       "      <td>front</td>\n",
       "      <td>88.6</td>\n",
       "      <td>...</td>\n",
       "      <td>130</td>\n",
       "      <td>mpfi</td>\n",
       "      <td>3.47</td>\n",
       "      <td>2.68</td>\n",
       "      <td>9.0</td>\n",
       "      <td>111</td>\n",
       "      <td>5000</td>\n",
       "      <td>21</td>\n",
       "      <td>27</td>\n",
       "      <td>16500</td>\n",
       "    </tr>\n",
       "    <tr>\n",
       "      <th>2</th>\n",
       "      <td>1</td>\n",
       "      <td>?</td>\n",
       "      <td>alfa-romero</td>\n",
       "      <td>gas</td>\n",
       "      <td>std</td>\n",
       "      <td>two</td>\n",
       "      <td>hatchback</td>\n",
       "      <td>rwd</td>\n",
       "      <td>front</td>\n",
       "      <td>94.5</td>\n",
       "      <td>...</td>\n",
       "      <td>152</td>\n",
       "      <td>mpfi</td>\n",
       "      <td>2.68</td>\n",
       "      <td>3.47</td>\n",
       "      <td>9.0</td>\n",
       "      <td>154</td>\n",
       "      <td>5000</td>\n",
       "      <td>19</td>\n",
       "      <td>26</td>\n",
       "      <td>16500</td>\n",
       "    </tr>\n",
       "    <tr>\n",
       "      <th>3</th>\n",
       "      <td>2</td>\n",
       "      <td>164</td>\n",
       "      <td>audi</td>\n",
       "      <td>gas</td>\n",
       "      <td>std</td>\n",
       "      <td>four</td>\n",
       "      <td>sedan</td>\n",
       "      <td>fwd</td>\n",
       "      <td>front</td>\n",
       "      <td>99.8</td>\n",
       "      <td>...</td>\n",
       "      <td>109</td>\n",
       "      <td>mpfi</td>\n",
       "      <td>3.19</td>\n",
       "      <td>3.4</td>\n",
       "      <td>10.0</td>\n",
       "      <td>102</td>\n",
       "      <td>5500</td>\n",
       "      <td>24</td>\n",
       "      <td>30</td>\n",
       "      <td>13950</td>\n",
       "    </tr>\n",
       "    <tr>\n",
       "      <th>4</th>\n",
       "      <td>2</td>\n",
       "      <td>164</td>\n",
       "      <td>audi</td>\n",
       "      <td>gas</td>\n",
       "      <td>std</td>\n",
       "      <td>four</td>\n",
       "      <td>sedan</td>\n",
       "      <td>4wd</td>\n",
       "      <td>front</td>\n",
       "      <td>99.4</td>\n",
       "      <td>...</td>\n",
       "      <td>136</td>\n",
       "      <td>mpfi</td>\n",
       "      <td>3.19</td>\n",
       "      <td>3.4</td>\n",
       "      <td>8.0</td>\n",
       "      <td>115</td>\n",
       "      <td>5500</td>\n",
       "      <td>18</td>\n",
       "      <td>22</td>\n",
       "      <td>17450</td>\n",
       "    </tr>\n",
       "  </tbody>\n",
       "</table>\n",
       "<p>5 rows × 26 columns</p>\n",
       "</div>"
      ],
      "text/plain": [
       "   risk factor losses         make type of fuel aspiration total doors  \\\n",
       "0            3      ?  alfa-romero          gas        std         two   \n",
       "1            3      ?  alfa-romero          gas        std         two   \n",
       "2            1      ?  alfa-romero          gas        std         two   \n",
       "3            2    164         audi          gas        std        four   \n",
       "4            2    164         audi          gas        std        four   \n",
       "\n",
       "          body wheels location of engine  wheel base  ...  size of engine  \\\n",
       "0  convertible    rwd              front        88.6  ...             130   \n",
       "1  convertible    rwd              front        88.6  ...             130   \n",
       "2    hatchback    rwd              front        94.5  ...             152   \n",
       "3        sedan    fwd              front        99.8  ...             109   \n",
       "4        sedan    4wd              front        99.4  ...             136   \n",
       "\n",
       "   system of fuel  bore  stroke ratio of comprehenssion horsepower  peak-rpm  \\\n",
       "0            mpfi  3.47    2.68                     9.0        111      5000   \n",
       "1            mpfi  3.47    2.68                     9.0        111      5000   \n",
       "2            mpfi  2.68    3.47                     9.0        154      5000   \n",
       "3            mpfi  3.19     3.4                    10.0        102      5500   \n",
       "4            mpfi  3.19     3.4                     8.0        115      5500   \n",
       "\n",
       "  mpg in city mpg on highway total price  \n",
       "0          21             27       13495  \n",
       "1          21             27       16500  \n",
       "2          19             26       16500  \n",
       "3          24             30       13950  \n",
       "4          18             22       17450  \n",
       "\n",
       "[5 rows x 26 columns]"
      ]
     },
     "execution_count": 2,
     "metadata": {},
     "output_type": "execute_result"
    }
   ],
   "source": [
    "df=pd.read_csv(r\"D:\\Jenill\\JT\\RECR-BA\\Ranjith Ape task\\Automobile_data.csv\")\n",
    "df.head()"
   ]
  },
  {
   "cell_type": "markdown",
   "id": "89fcaf51",
   "metadata": {},
   "source": [
    "### EDA-Checking dataset for anamolies, disturbances and datatypes"
   ]
  },
  {
   "cell_type": "code",
   "execution_count": 3,
   "id": "8ca361d3",
   "metadata": {},
   "outputs": [
    {
     "data": {
      "text/plain": [
       "(205, 26)"
      ]
     },
     "execution_count": 3,
     "metadata": {},
     "output_type": "execute_result"
    }
   ],
   "source": [
    "df.shape"
   ]
  },
  {
   "cell_type": "code",
   "execution_count": 4,
   "id": "aec3f5d0",
   "metadata": {},
   "outputs": [
    {
     "data": {
      "text/plain": [
       "risk factor                0\n",
       "losses                     0\n",
       "make                       0\n",
       "type of fuel               0\n",
       "aspiration                 0\n",
       "total doors                0\n",
       "body                       0\n",
       "wheels                     0\n",
       "location of engine         0\n",
       "wheel base                 0\n",
       "length                     0\n",
       "width                      0\n",
       "height                     0\n",
       "weight of curb             0\n",
       "type of engine             0\n",
       "total cylinders            0\n",
       "size of engine             0\n",
       "system of fuel             0\n",
       "bore                       0\n",
       "stroke                     0\n",
       "ratio of comprehenssion    0\n",
       "horsepower                 0\n",
       "peak-rpm                   0\n",
       "mpg in city                0\n",
       "mpg on highway             0\n",
       "total price                0\n",
       "dtype: int64"
      ]
     },
     "execution_count": 4,
     "metadata": {},
     "output_type": "execute_result"
    }
   ],
   "source": [
    "df.isnull().sum()"
   ]
  },
  {
   "cell_type": "code",
   "execution_count": 5,
   "id": "dec4943d",
   "metadata": {},
   "outputs": [
    {
     "data": {
      "text/html": [
       "<div>\n",
       "<style scoped>\n",
       "    .dataframe tbody tr th:only-of-type {\n",
       "        vertical-align: middle;\n",
       "    }\n",
       "\n",
       "    .dataframe tbody tr th {\n",
       "        vertical-align: top;\n",
       "    }\n",
       "\n",
       "    .dataframe thead th {\n",
       "        text-align: right;\n",
       "    }\n",
       "</style>\n",
       "<table border=\"1\" class=\"dataframe\">\n",
       "  <thead>\n",
       "    <tr style=\"text-align: right;\">\n",
       "      <th></th>\n",
       "      <th>risk factor</th>\n",
       "      <th>wheel base</th>\n",
       "      <th>length</th>\n",
       "      <th>width</th>\n",
       "      <th>height</th>\n",
       "      <th>weight of curb</th>\n",
       "      <th>size of engine</th>\n",
       "      <th>ratio of comprehenssion</th>\n",
       "      <th>mpg in city</th>\n",
       "      <th>mpg on highway</th>\n",
       "    </tr>\n",
       "  </thead>\n",
       "  <tbody>\n",
       "    <tr>\n",
       "      <th>count</th>\n",
       "      <td>205.000000</td>\n",
       "      <td>205.000000</td>\n",
       "      <td>205.000000</td>\n",
       "      <td>205.000000</td>\n",
       "      <td>205.000000</td>\n",
       "      <td>205.000000</td>\n",
       "      <td>205.000000</td>\n",
       "      <td>205.000000</td>\n",
       "      <td>205.000000</td>\n",
       "      <td>205.000000</td>\n",
       "    </tr>\n",
       "    <tr>\n",
       "      <th>mean</th>\n",
       "      <td>0.834146</td>\n",
       "      <td>98.756585</td>\n",
       "      <td>174.049268</td>\n",
       "      <td>65.907805</td>\n",
       "      <td>53.724878</td>\n",
       "      <td>2555.565854</td>\n",
       "      <td>126.907317</td>\n",
       "      <td>10.142537</td>\n",
       "      <td>25.219512</td>\n",
       "      <td>30.751220</td>\n",
       "    </tr>\n",
       "    <tr>\n",
       "      <th>std</th>\n",
       "      <td>1.245307</td>\n",
       "      <td>6.021776</td>\n",
       "      <td>12.337289</td>\n",
       "      <td>2.145204</td>\n",
       "      <td>2.443522</td>\n",
       "      <td>520.680204</td>\n",
       "      <td>41.642693</td>\n",
       "      <td>3.972040</td>\n",
       "      <td>6.542142</td>\n",
       "      <td>6.886443</td>\n",
       "    </tr>\n",
       "    <tr>\n",
       "      <th>min</th>\n",
       "      <td>-2.000000</td>\n",
       "      <td>86.600000</td>\n",
       "      <td>141.100000</td>\n",
       "      <td>60.300000</td>\n",
       "      <td>47.800000</td>\n",
       "      <td>1488.000000</td>\n",
       "      <td>61.000000</td>\n",
       "      <td>7.000000</td>\n",
       "      <td>13.000000</td>\n",
       "      <td>16.000000</td>\n",
       "    </tr>\n",
       "    <tr>\n",
       "      <th>25%</th>\n",
       "      <td>0.000000</td>\n",
       "      <td>94.500000</td>\n",
       "      <td>166.300000</td>\n",
       "      <td>64.100000</td>\n",
       "      <td>52.000000</td>\n",
       "      <td>2145.000000</td>\n",
       "      <td>97.000000</td>\n",
       "      <td>8.600000</td>\n",
       "      <td>19.000000</td>\n",
       "      <td>25.000000</td>\n",
       "    </tr>\n",
       "    <tr>\n",
       "      <th>50%</th>\n",
       "      <td>1.000000</td>\n",
       "      <td>97.000000</td>\n",
       "      <td>173.200000</td>\n",
       "      <td>65.500000</td>\n",
       "      <td>54.100000</td>\n",
       "      <td>2414.000000</td>\n",
       "      <td>120.000000</td>\n",
       "      <td>9.000000</td>\n",
       "      <td>24.000000</td>\n",
       "      <td>30.000000</td>\n",
       "    </tr>\n",
       "    <tr>\n",
       "      <th>75%</th>\n",
       "      <td>2.000000</td>\n",
       "      <td>102.400000</td>\n",
       "      <td>183.100000</td>\n",
       "      <td>66.900000</td>\n",
       "      <td>55.500000</td>\n",
       "      <td>2935.000000</td>\n",
       "      <td>141.000000</td>\n",
       "      <td>9.400000</td>\n",
       "      <td>30.000000</td>\n",
       "      <td>34.000000</td>\n",
       "    </tr>\n",
       "    <tr>\n",
       "      <th>max</th>\n",
       "      <td>3.000000</td>\n",
       "      <td>120.900000</td>\n",
       "      <td>208.100000</td>\n",
       "      <td>72.300000</td>\n",
       "      <td>59.800000</td>\n",
       "      <td>4066.000000</td>\n",
       "      <td>326.000000</td>\n",
       "      <td>23.000000</td>\n",
       "      <td>49.000000</td>\n",
       "      <td>54.000000</td>\n",
       "    </tr>\n",
       "  </tbody>\n",
       "</table>\n",
       "</div>"
      ],
      "text/plain": [
       "       risk factor  wheel base      length       width      height  \\\n",
       "count   205.000000  205.000000  205.000000  205.000000  205.000000   \n",
       "mean      0.834146   98.756585  174.049268   65.907805   53.724878   \n",
       "std       1.245307    6.021776   12.337289    2.145204    2.443522   \n",
       "min      -2.000000   86.600000  141.100000   60.300000   47.800000   \n",
       "25%       0.000000   94.500000  166.300000   64.100000   52.000000   \n",
       "50%       1.000000   97.000000  173.200000   65.500000   54.100000   \n",
       "75%       2.000000  102.400000  183.100000   66.900000   55.500000   \n",
       "max       3.000000  120.900000  208.100000   72.300000   59.800000   \n",
       "\n",
       "       weight of curb  size of engine  ratio of comprehenssion  mpg in city  \\\n",
       "count      205.000000      205.000000               205.000000   205.000000   \n",
       "mean      2555.565854      126.907317                10.142537    25.219512   \n",
       "std        520.680204       41.642693                 3.972040     6.542142   \n",
       "min       1488.000000       61.000000                 7.000000    13.000000   \n",
       "25%       2145.000000       97.000000                 8.600000    19.000000   \n",
       "50%       2414.000000      120.000000                 9.000000    24.000000   \n",
       "75%       2935.000000      141.000000                 9.400000    30.000000   \n",
       "max       4066.000000      326.000000                23.000000    49.000000   \n",
       "\n",
       "       mpg on highway  \n",
       "count      205.000000  \n",
       "mean        30.751220  \n",
       "std          6.886443  \n",
       "min         16.000000  \n",
       "25%         25.000000  \n",
       "50%         30.000000  \n",
       "75%         34.000000  \n",
       "max         54.000000  "
      ]
     },
     "execution_count": 5,
     "metadata": {},
     "output_type": "execute_result"
    }
   ],
   "source": [
    "df.describe()"
   ]
  },
  {
   "cell_type": "code",
   "execution_count": 6,
   "id": "604c9106",
   "metadata": {},
   "outputs": [
    {
     "data": {
      "text/plain": [
       "Index(['risk factor', 'losses', 'make', 'type of fuel', 'aspiration',\n",
       "       'total doors', 'body', 'wheels', 'location of engine', 'wheel base',\n",
       "       'length', 'width', 'height', 'weight of curb', 'type of engine',\n",
       "       'total cylinders', 'size of engine', 'system of fuel', 'bore', 'stroke',\n",
       "       'ratio of comprehenssion', 'horsepower', 'peak-rpm', 'mpg in city',\n",
       "       'mpg on highway', 'total price'],\n",
       "      dtype='object')"
      ]
     },
     "execution_count": 6,
     "metadata": {},
     "output_type": "execute_result"
    }
   ],
   "source": [
    "df.columns"
   ]
  },
  {
   "cell_type": "code",
   "execution_count": 173,
   "id": "51b7506d",
   "metadata": {},
   "outputs": [
    {
     "name": "stdout",
     "output_type": "stream",
     "text": [
      "<class 'pandas.core.frame.DataFrame'>\n",
      "Int64Index: 201 entries, 0 to 204\n",
      "Data columns (total 26 columns):\n",
      " #   Column                   Non-Null Count  Dtype  \n",
      "---  ------                   --------------  -----  \n",
      " 0   risk_factor              201 non-null    int64  \n",
      " 1   losses                   201 non-null    float64\n",
      " 2   make                     201 non-null    object \n",
      " 3   type_of_fuel             201 non-null    object \n",
      " 4   aspiration               201 non-null    object \n",
      " 5   total_doors              201 non-null    object \n",
      " 6   body                     201 non-null    object \n",
      " 7   wheels                   201 non-null    object \n",
      " 8   location_of_engine       201 non-null    object \n",
      " 9   wheel_base               201 non-null    float64\n",
      " 10  length                   201 non-null    float64\n",
      " 11  width                    201 non-null    float64\n",
      " 12  height                   201 non-null    float64\n",
      " 13  weight_of_curb           201 non-null    int64  \n",
      " 14  type_of_engine           201 non-null    object \n",
      " 15  total_cylinders          201 non-null    object \n",
      " 16  size_of_engine           201 non-null    int64  \n",
      " 17  system_of_fuel           201 non-null    object \n",
      " 18  bore                     201 non-null    float64\n",
      " 19  stroke                   201 non-null    float64\n",
      " 20  ratio_of_comprehenssion  201 non-null    float64\n",
      " 21  horsepower               201 non-null    float64\n",
      " 22  peak_rpm                 201 non-null    float64\n",
      " 23  mpg_in_city              201 non-null    int64  \n",
      " 24  mpg_on_highway           201 non-null    int64  \n",
      " 25  total_price              201 non-null    float64\n",
      "dtypes: float64(11), int64(5), object(10)\n",
      "memory usage: 42.4+ KB\n"
     ]
    }
   ],
   "source": [
    "df.info()"
   ]
  },
  {
   "cell_type": "code",
   "execution_count": 8,
   "id": "09549d2c",
   "metadata": {},
   "outputs": [
    {
     "data": {
      "text/plain": [
       "pandas.core.series.Series"
      ]
     },
     "execution_count": 8,
     "metadata": {},
     "output_type": "execute_result"
    }
   ],
   "source": [
    "type(df.losses)"
   ]
  },
  {
   "cell_type": "code",
   "execution_count": 9,
   "id": "a2d4f4ef",
   "metadata": {
    "scrolled": true
   },
   "outputs": [
    {
     "name": "stdout",
     "output_type": "stream",
     "text": [
      "losses\n",
      "?      39\n",
      "161    11\n",
      "91      8\n",
      "150     7\n",
      "128     6\n",
      "134     6\n",
      "104     6\n",
      "95      5\n",
      "102     5\n",
      "74      5\n",
      "168     5\n",
      "85      5\n",
      "103     5\n",
      "94      5\n",
      "65      5\n",
      "122     4\n",
      "106     4\n",
      "148     4\n",
      "118     4\n",
      "93      4\n",
      "115     3\n",
      "125     3\n",
      "154     3\n",
      "137     3\n",
      "83      3\n",
      "101     3\n",
      "197     2\n",
      "119     2\n",
      "194     2\n",
      "108     2\n",
      "87      2\n",
      "89      2\n",
      "158     2\n",
      "192     2\n",
      "145     2\n",
      "188     2\n",
      "#       2\n",
      "81      2\n",
      "164     2\n",
      "110     2\n",
      "113     2\n",
      "129     2\n",
      "153     2\n",
      "107     1\n",
      "78      1\n",
      "186     1\n",
      "77      1\n",
      "98      1\n",
      "121     1\n",
      "142     1\n",
      "90      1\n",
      "231     1\n",
      "256     1\n",
      "Name: losses, dtype: int64\n",
      "make\n",
      "toyota           32\n",
      "nissan           18\n",
      "mazda            17\n",
      "mitsubishi       13\n",
      "honda            13\n",
      "volkswagen       12\n",
      "subaru           12\n",
      "peugot           11\n",
      "volvo            11\n",
      "dodge             9\n",
      "mercedes-benz     8\n",
      "bmw               8\n",
      "audi              7\n",
      "plymouth          7\n",
      "saab              6\n",
      "porsche           5\n",
      "isuzu             4\n",
      "jaguar            3\n",
      "chevrolet         3\n",
      "alfa-romero       3\n",
      "renault           2\n",
      "mercury           1\n",
      "Name: make, dtype: int64\n",
      "type of fuel\n",
      "gas       185\n",
      "diesel     20\n",
      "Name: type of fuel, dtype: int64\n",
      "aspiration\n",
      "std      168\n",
      "turbo     37\n",
      "Name: aspiration, dtype: int64\n",
      "total doors\n",
      "four    114\n",
      "two      89\n",
      "?         2\n",
      "Name: total doors, dtype: int64\n",
      "body\n",
      "sedan          96\n",
      "hatchback      70\n",
      "wagon          25\n",
      "hardtop         8\n",
      "convertible     6\n",
      "Name: body, dtype: int64\n",
      "wheels\n",
      "fwd    120\n",
      "rwd     76\n",
      "4wd      9\n",
      "Name: wheels, dtype: int64\n",
      "location of engine\n",
      "front    202\n",
      "rear       3\n",
      "Name: location of engine, dtype: int64\n",
      "type of engine\n",
      "ohc      148\n",
      "ohcf      15\n",
      "ohcv      13\n",
      "dohc      12\n",
      "l         12\n",
      "rotor      4\n",
      "dohcv      1\n",
      "Name: type of engine, dtype: int64\n",
      "total cylinders\n",
      "four      159\n",
      "six        24\n",
      "five       11\n",
      "eight       5\n",
      "two         4\n",
      "three       1\n",
      "twelve      1\n",
      "Name: total cylinders, dtype: int64\n",
      "system of fuel\n",
      "mpfi    94\n",
      "2bbl    66\n",
      "idi     20\n",
      "1bbl    11\n",
      "spdi     9\n",
      "4bbl     3\n",
      "mfi      1\n",
      "spfi     1\n",
      "Name: system of fuel, dtype: int64\n",
      "bore\n",
      "3.62    23\n",
      "3.19    20\n",
      "3.15    15\n",
      "3.03    12\n",
      "2.97    12\n",
      "3.46     9\n",
      "3.31     8\n",
      "3.78     8\n",
      "3.43     8\n",
      "3.27     7\n",
      "2.91     7\n",
      "3.39     6\n",
      "3.54     6\n",
      "3.05     6\n",
      "3.58     6\n",
      "3.7      5\n",
      "3.01     5\n",
      "3.35     4\n",
      "?        4\n",
      "3.17     3\n",
      "3.59     3\n",
      "3.74     3\n",
      "3.47     2\n",
      "3.94     2\n",
      "3.24     2\n",
      "3.13     2\n",
      "3.63     2\n",
      "3.5      2\n",
      "3.8      2\n",
      "3.33     2\n",
      "2.54     1\n",
      "3.08     1\n",
      "3.61     1\n",
      "3.34     1\n",
      "3.6      1\n",
      "2.92     1\n",
      "3.76     1\n",
      "2.68     1\n",
      "2.99     1\n",
      "Name: bore, dtype: int64\n",
      "stroke\n",
      "3.4     20\n",
      "3.23    14\n",
      "3.15    14\n",
      "3.03    14\n",
      "3.39    13\n",
      "2.64    11\n",
      "3.29     9\n",
      "3.35     9\n",
      "3.46     8\n",
      "3.11     6\n",
      "3.27     6\n",
      "3.41     6\n",
      "3.07     6\n",
      "3.58     6\n",
      "3.19     6\n",
      "3.5      6\n",
      "3.64     5\n",
      "3.52     5\n",
      "3.86     4\n",
      "3.54     4\n",
      "3.47     4\n",
      "?        4\n",
      "3.9      3\n",
      "2.9      3\n",
      "3.1      2\n",
      "4.17     2\n",
      "2.8      2\n",
      "2.19     2\n",
      "3.08     2\n",
      "2.68     2\n",
      "2.36     1\n",
      "3.16     1\n",
      "2.07     1\n",
      "3.21     1\n",
      "3.12     1\n",
      "2.76     1\n",
      "2.87     1\n",
      "Name: stroke, dtype: int64\n",
      "horsepower\n",
      "68     19\n",
      "70     11\n",
      "69     10\n",
      "116     9\n",
      "110     8\n",
      "95      7\n",
      "88      6\n",
      "62      6\n",
      "101     6\n",
      "160     6\n",
      "114     6\n",
      "84      5\n",
      "97      5\n",
      "102     5\n",
      "145     5\n",
      "82      5\n",
      "76      5\n",
      "111     4\n",
      "92      4\n",
      "123     4\n",
      "86      4\n",
      "90      3\n",
      "73      3\n",
      "85      3\n",
      "207     3\n",
      "182     3\n",
      "121     3\n",
      "152     3\n",
      "112     2\n",
      "56      2\n",
      "161     2\n",
      "156     2\n",
      "94      2\n",
      "52      2\n",
      "?       2\n",
      "162     2\n",
      "155     2\n",
      "184     2\n",
      "100     2\n",
      "176     2\n",
      "55      1\n",
      "262     1\n",
      "134     1\n",
      "115     1\n",
      "140     1\n",
      "48      1\n",
      "58      1\n",
      "60      1\n",
      "78      1\n",
      "135     1\n",
      "200     1\n",
      "64      1\n",
      "120     1\n",
      "72      1\n",
      "154     1\n",
      "288     1\n",
      "143     1\n",
      "142     1\n",
      "175     1\n",
      "106     1\n",
      "Name: horsepower, dtype: int64\n",
      "peak-rpm\n",
      "5500    37\n",
      "4800    36\n",
      "5000    27\n",
      "5200    23\n",
      "5400    13\n",
      "6000     9\n",
      "5250     7\n",
      "4500     7\n",
      "5800     7\n",
      "4200     5\n",
      "4150     5\n",
      "4750     4\n",
      "4350     4\n",
      "5100     3\n",
      "4250     3\n",
      "5900     3\n",
      "4400     3\n",
      "?        2\n",
      "6600     2\n",
      "4650     1\n",
      "5600     1\n",
      "5750     1\n",
      "4900     1\n",
      "5300     1\n",
      "Name: peak-rpm, dtype: int64\n",
      "total price\n",
      "8921     2\n",
      "18150    2\n",
      "8845     2\n",
      "8495     2\n",
      "7775     2\n",
      "        ..\n",
      "45400    1\n",
      "16503    1\n",
      "5389     1\n",
      "6189     1\n",
      "22625    1\n",
      "Name: total price, Length: 188, dtype: int64\n"
     ]
    }
   ],
   "source": [
    "for i in df.columns:\n",
    "    if df[i].dtypes==\"O\":\n",
    "        a=df[i].value_counts()\n",
    "        print(i)\n",
    "        print(a)"
   ]
  },
  {
   "cell_type": "markdown",
   "id": "2c21a0c4",
   "metadata": {},
   "source": [
    "### Listed down the problems in the dataset"
   ]
  },
  {
   "cell_type": "markdown",
   "id": "6684dce1",
   "metadata": {},
   "source": [
    "### problems_list\n",
    "#### \"losses\":\"?\",39\n",
    "#### \"losses\":\"#\",2\n",
    "#### \"doors\":\"?\",2\n",
    "#### \"bore\":\"?\",4\n",
    "#### \"stroke\":\"?\",4\n",
    "#### \"horsepower\":\"?\",2\n",
    "#### \"peak-rpm\":\"?\",2"
   ]
  },
  {
   "cell_type": "markdown",
   "id": "81d9ca5b",
   "metadata": {},
   "source": [
    "###  Data rectification"
   ]
  },
  {
   "cell_type": "code",
   "execution_count": 10,
   "id": "8bf557c2",
   "metadata": {},
   "outputs": [],
   "source": [
    "df.losses.replace(to_replace=\"?\", value=\"\", inplace=True)"
   ]
  },
  {
   "cell_type": "code",
   "execution_count": 11,
   "id": "e26252ca",
   "metadata": {},
   "outputs": [],
   "source": [
    "df.losses.replace(to_replace=\"#\", value=\"\", inplace=True)"
   ]
  },
  {
   "cell_type": "code",
   "execution_count": 12,
   "id": "2d0ce652",
   "metadata": {},
   "outputs": [],
   "source": [
    "df[\"total doors\"].replace(to_replace=\"?\", value=\"\", inplace=True)"
   ]
  },
  {
   "cell_type": "code",
   "execution_count": 13,
   "id": "31ab4abe",
   "metadata": {},
   "outputs": [],
   "source": [
    "df.bore.replace(to_replace=\"?\", value=\"\", inplace=True)"
   ]
  },
  {
   "cell_type": "code",
   "execution_count": 14,
   "id": "0182b261",
   "metadata": {},
   "outputs": [],
   "source": [
    "df.stroke.replace(to_replace=\"?\", value=\"\", inplace=True)"
   ]
  },
  {
   "cell_type": "code",
   "execution_count": 15,
   "id": "b172908a",
   "metadata": {},
   "outputs": [],
   "source": [
    "df.horsepower.replace(to_replace=\"?\", value=\"\", inplace=True)"
   ]
  },
  {
   "cell_type": "code",
   "execution_count": 16,
   "id": "ecfd1f24",
   "metadata": {},
   "outputs": [],
   "source": [
    "df[\"peak-rpm\"].replace(to_replace=\"?\", value=\"\", inplace=True)"
   ]
  },
  {
   "cell_type": "code",
   "execution_count": 17,
   "id": "6b6e798b",
   "metadata": {},
   "outputs": [
    {
     "data": {
      "text/plain": [
       "       41\n",
       "161    11\n",
       "91      8\n",
       "150     7\n",
       "134     6\n",
       "128     6\n",
       "104     6\n",
       "85      5\n",
       "94      5\n",
       "65      5\n",
       "102     5\n",
       "74      5\n",
       "168     5\n",
       "103     5\n",
       "95      5\n",
       "106     4\n",
       "93      4\n",
       "118     4\n",
       "148     4\n",
       "122     4\n",
       "83      3\n",
       "125     3\n",
       "154     3\n",
       "115     3\n",
       "137     3\n",
       "101     3\n",
       "119     2\n",
       "87      2\n",
       "89      2\n",
       "192     2\n",
       "197     2\n",
       "158     2\n",
       "81      2\n",
       "188     2\n",
       "194     2\n",
       "153     2\n",
       "129     2\n",
       "108     2\n",
       "110     2\n",
       "164     2\n",
       "145     2\n",
       "113     2\n",
       "256     1\n",
       "107     1\n",
       "90      1\n",
       "231     1\n",
       "142     1\n",
       "121     1\n",
       "78      1\n",
       "98      1\n",
       "186     1\n",
       "77      1\n",
       "Name: losses, dtype: int64"
      ]
     },
     "execution_count": 17,
     "metadata": {},
     "output_type": "execute_result"
    }
   ],
   "source": [
    "df.losses.value_counts()"
   ]
  },
  {
   "cell_type": "markdown",
   "id": "f67e85ec",
   "metadata": {},
   "source": [
    "### Changed data types weherever necessary"
   ]
  },
  {
   "cell_type": "code",
   "execution_count": 18,
   "id": "8d08dd10",
   "metadata": {},
   "outputs": [],
   "source": [
    "df.losses=pd.to_numeric(df.losses)"
   ]
  },
  {
   "cell_type": "code",
   "execution_count": 19,
   "id": "603dbaa7",
   "metadata": {
    "scrolled": true
   },
   "outputs": [
    {
     "data": {
      "text/html": [
       "<div>\n",
       "<style scoped>\n",
       "    .dataframe tbody tr th:only-of-type {\n",
       "        vertical-align: middle;\n",
       "    }\n",
       "\n",
       "    .dataframe tbody tr th {\n",
       "        vertical-align: top;\n",
       "    }\n",
       "\n",
       "    .dataframe thead th {\n",
       "        text-align: right;\n",
       "    }\n",
       "</style>\n",
       "<table border=\"1\" class=\"dataframe\">\n",
       "  <thead>\n",
       "    <tr style=\"text-align: right;\">\n",
       "      <th></th>\n",
       "      <th>risk factor</th>\n",
       "      <th>losses</th>\n",
       "      <th>wheel base</th>\n",
       "      <th>length</th>\n",
       "      <th>width</th>\n",
       "      <th>height</th>\n",
       "      <th>weight of curb</th>\n",
       "      <th>size of engine</th>\n",
       "      <th>ratio of comprehenssion</th>\n",
       "      <th>mpg in city</th>\n",
       "      <th>mpg on highway</th>\n",
       "    </tr>\n",
       "  </thead>\n",
       "  <tbody>\n",
       "    <tr>\n",
       "      <th>count</th>\n",
       "      <td>205.000000</td>\n",
       "      <td>164.000000</td>\n",
       "      <td>205.000000</td>\n",
       "      <td>205.000000</td>\n",
       "      <td>205.000000</td>\n",
       "      <td>205.000000</td>\n",
       "      <td>205.000000</td>\n",
       "      <td>205.000000</td>\n",
       "      <td>205.000000</td>\n",
       "      <td>205.000000</td>\n",
       "      <td>205.000000</td>\n",
       "    </tr>\n",
       "    <tr>\n",
       "      <th>mean</th>\n",
       "      <td>0.834146</td>\n",
       "      <td>122.000000</td>\n",
       "      <td>98.756585</td>\n",
       "      <td>174.049268</td>\n",
       "      <td>65.907805</td>\n",
       "      <td>53.724878</td>\n",
       "      <td>2555.565854</td>\n",
       "      <td>126.907317</td>\n",
       "      <td>10.142537</td>\n",
       "      <td>25.219512</td>\n",
       "      <td>30.751220</td>\n",
       "    </tr>\n",
       "    <tr>\n",
       "      <th>std</th>\n",
       "      <td>1.245307</td>\n",
       "      <td>35.442168</td>\n",
       "      <td>6.021776</td>\n",
       "      <td>12.337289</td>\n",
       "      <td>2.145204</td>\n",
       "      <td>2.443522</td>\n",
       "      <td>520.680204</td>\n",
       "      <td>41.642693</td>\n",
       "      <td>3.972040</td>\n",
       "      <td>6.542142</td>\n",
       "      <td>6.886443</td>\n",
       "    </tr>\n",
       "    <tr>\n",
       "      <th>min</th>\n",
       "      <td>-2.000000</td>\n",
       "      <td>65.000000</td>\n",
       "      <td>86.600000</td>\n",
       "      <td>141.100000</td>\n",
       "      <td>60.300000</td>\n",
       "      <td>47.800000</td>\n",
       "      <td>1488.000000</td>\n",
       "      <td>61.000000</td>\n",
       "      <td>7.000000</td>\n",
       "      <td>13.000000</td>\n",
       "      <td>16.000000</td>\n",
       "    </tr>\n",
       "    <tr>\n",
       "      <th>25%</th>\n",
       "      <td>0.000000</td>\n",
       "      <td>94.000000</td>\n",
       "      <td>94.500000</td>\n",
       "      <td>166.300000</td>\n",
       "      <td>64.100000</td>\n",
       "      <td>52.000000</td>\n",
       "      <td>2145.000000</td>\n",
       "      <td>97.000000</td>\n",
       "      <td>8.600000</td>\n",
       "      <td>19.000000</td>\n",
       "      <td>25.000000</td>\n",
       "    </tr>\n",
       "    <tr>\n",
       "      <th>50%</th>\n",
       "      <td>1.000000</td>\n",
       "      <td>115.000000</td>\n",
       "      <td>97.000000</td>\n",
       "      <td>173.200000</td>\n",
       "      <td>65.500000</td>\n",
       "      <td>54.100000</td>\n",
       "      <td>2414.000000</td>\n",
       "      <td>120.000000</td>\n",
       "      <td>9.000000</td>\n",
       "      <td>24.000000</td>\n",
       "      <td>30.000000</td>\n",
       "    </tr>\n",
       "    <tr>\n",
       "      <th>75%</th>\n",
       "      <td>2.000000</td>\n",
       "      <td>150.000000</td>\n",
       "      <td>102.400000</td>\n",
       "      <td>183.100000</td>\n",
       "      <td>66.900000</td>\n",
       "      <td>55.500000</td>\n",
       "      <td>2935.000000</td>\n",
       "      <td>141.000000</td>\n",
       "      <td>9.400000</td>\n",
       "      <td>30.000000</td>\n",
       "      <td>34.000000</td>\n",
       "    </tr>\n",
       "    <tr>\n",
       "      <th>max</th>\n",
       "      <td>3.000000</td>\n",
       "      <td>256.000000</td>\n",
       "      <td>120.900000</td>\n",
       "      <td>208.100000</td>\n",
       "      <td>72.300000</td>\n",
       "      <td>59.800000</td>\n",
       "      <td>4066.000000</td>\n",
       "      <td>326.000000</td>\n",
       "      <td>23.000000</td>\n",
       "      <td>49.000000</td>\n",
       "      <td>54.000000</td>\n",
       "    </tr>\n",
       "  </tbody>\n",
       "</table>\n",
       "</div>"
      ],
      "text/plain": [
       "       risk factor      losses  wheel base      length       width  \\\n",
       "count   205.000000  164.000000  205.000000  205.000000  205.000000   \n",
       "mean      0.834146  122.000000   98.756585  174.049268   65.907805   \n",
       "std       1.245307   35.442168    6.021776   12.337289    2.145204   \n",
       "min      -2.000000   65.000000   86.600000  141.100000   60.300000   \n",
       "25%       0.000000   94.000000   94.500000  166.300000   64.100000   \n",
       "50%       1.000000  115.000000   97.000000  173.200000   65.500000   \n",
       "75%       2.000000  150.000000  102.400000  183.100000   66.900000   \n",
       "max       3.000000  256.000000  120.900000  208.100000   72.300000   \n",
       "\n",
       "           height  weight of curb  size of engine  ratio of comprehenssion  \\\n",
       "count  205.000000      205.000000      205.000000               205.000000   \n",
       "mean    53.724878     2555.565854      126.907317                10.142537   \n",
       "std      2.443522      520.680204       41.642693                 3.972040   \n",
       "min     47.800000     1488.000000       61.000000                 7.000000   \n",
       "25%     52.000000     2145.000000       97.000000                 8.600000   \n",
       "50%     54.100000     2414.000000      120.000000                 9.000000   \n",
       "75%     55.500000     2935.000000      141.000000                 9.400000   \n",
       "max     59.800000     4066.000000      326.000000                23.000000   \n",
       "\n",
       "       mpg in city  mpg on highway  \n",
       "count   205.000000      205.000000  \n",
       "mean     25.219512       30.751220  \n",
       "std       6.542142        6.886443  \n",
       "min      13.000000       16.000000  \n",
       "25%      19.000000       25.000000  \n",
       "50%      24.000000       30.000000  \n",
       "75%      30.000000       34.000000  \n",
       "max      49.000000       54.000000  "
      ]
     },
     "execution_count": 19,
     "metadata": {},
     "output_type": "execute_result"
    }
   ],
   "source": [
    "df.describe()"
   ]
  },
  {
   "cell_type": "code",
   "execution_count": 20,
   "id": "4cea4c68",
   "metadata": {},
   "outputs": [],
   "source": [
    "df.losses.fillna(df.losses.mean(),inplace=True)"
   ]
  },
  {
   "cell_type": "code",
   "execution_count": 21,
   "id": "434b9040",
   "metadata": {},
   "outputs": [
    {
     "data": {
      "text/plain": [
       "<bound method IndexOpsMixin.value_counts of 0      122.0\n",
       "1      122.0\n",
       "2      122.0\n",
       "3      164.0\n",
       "4      164.0\n",
       "       ...  \n",
       "200     95.0\n",
       "201     95.0\n",
       "202     95.0\n",
       "203     95.0\n",
       "204     95.0\n",
       "Name: losses, Length: 205, dtype: float64>"
      ]
     },
     "execution_count": 21,
     "metadata": {},
     "output_type": "execute_result"
    }
   ],
   "source": [
    "df.losses.value_counts"
   ]
  },
  {
   "cell_type": "code",
   "execution_count": 22,
   "id": "242e5ac2",
   "metadata": {},
   "outputs": [],
   "source": [
    "df[\"total doors\"].replace(to_replace=\"\",value=\"four\",inplace=True)"
   ]
  },
  {
   "cell_type": "code",
   "execution_count": 23,
   "id": "ca9e3c82",
   "metadata": {},
   "outputs": [
    {
     "data": {
      "text/plain": [
       "four    116\n",
       "two      89\n",
       "Name: total doors, dtype: int64"
      ]
     },
     "execution_count": 23,
     "metadata": {},
     "output_type": "execute_result"
    }
   ],
   "source": [
    "df[\"total doors\"].value_counts()"
   ]
  },
  {
   "cell_type": "code",
   "execution_count": 24,
   "id": "92fa4a06",
   "metadata": {},
   "outputs": [],
   "source": [
    "df.bore=pd.to_numeric(df.bore)"
   ]
  },
  {
   "cell_type": "code",
   "execution_count": 25,
   "id": "33f3feea",
   "metadata": {},
   "outputs": [],
   "source": [
    "df.bore.fillna(df.bore.mean(),inplace=True)"
   ]
  },
  {
   "cell_type": "code",
   "execution_count": 26,
   "id": "69dccbad",
   "metadata": {},
   "outputs": [
    {
     "data": {
      "text/plain": [
       "<bound method IndexOpsMixin.value_counts of 0      3.47\n",
       "1      3.47\n",
       "2      2.68\n",
       "3      3.19\n",
       "4      3.19\n",
       "       ... \n",
       "200    3.78\n",
       "201    3.78\n",
       "202    3.58\n",
       "203    3.01\n",
       "204    3.78\n",
       "Name: bore, Length: 205, dtype: float64>"
      ]
     },
     "execution_count": 26,
     "metadata": {},
     "output_type": "execute_result"
    }
   ],
   "source": [
    "df.bore.value_counts"
   ]
  },
  {
   "cell_type": "code",
   "execution_count": 27,
   "id": "59bde73c",
   "metadata": {},
   "outputs": [],
   "source": [
    "df.stroke=pd.to_numeric(df.stroke)"
   ]
  },
  {
   "cell_type": "code",
   "execution_count": 28,
   "id": "1856d9ca",
   "metadata": {},
   "outputs": [],
   "source": [
    "df.stroke.fillna(df.stroke.mean(),inplace=True)"
   ]
  },
  {
   "cell_type": "code",
   "execution_count": 29,
   "id": "5601a9ab",
   "metadata": {},
   "outputs": [
    {
     "data": {
      "text/plain": [
       "<bound method IndexOpsMixin.value_counts of 0      2.68\n",
       "1      2.68\n",
       "2      3.47\n",
       "3      3.40\n",
       "4      3.40\n",
       "       ... \n",
       "200    3.15\n",
       "201    3.15\n",
       "202    2.87\n",
       "203    3.40\n",
       "204    3.15\n",
       "Name: stroke, Length: 205, dtype: float64>"
      ]
     },
     "execution_count": 29,
     "metadata": {},
     "output_type": "execute_result"
    }
   ],
   "source": [
    "df.stroke.value_counts"
   ]
  },
  {
   "cell_type": "code",
   "execution_count": 30,
   "id": "dca9e1d7",
   "metadata": {},
   "outputs": [],
   "source": [
    "df[\"peak-rpm\"]=pd.to_numeric(df[\"peak-rpm\"])"
   ]
  },
  {
   "cell_type": "markdown",
   "id": "fbcbda08",
   "metadata": {},
   "source": [
    "### Some data has been filled with its \"mode\" value, some with \"mean\" values as per data distribution"
   ]
  },
  {
   "cell_type": "code",
   "execution_count": 31,
   "id": "251f1f1c",
   "metadata": {},
   "outputs": [],
   "source": [
    "df[\"peak-rpm\"].fillna(df[\"peak-rpm\"].mode(),inplace=True)"
   ]
  },
  {
   "cell_type": "code",
   "execution_count": 32,
   "id": "a3ce04f1",
   "metadata": {},
   "outputs": [
    {
     "data": {
      "text/plain": [
       "<bound method IndexOpsMixin.value_counts of 0      5000.0\n",
       "1      5000.0\n",
       "2      5000.0\n",
       "3      5500.0\n",
       "4      5500.0\n",
       "        ...  \n",
       "200    5400.0\n",
       "201    5300.0\n",
       "202    5500.0\n",
       "203    4800.0\n",
       "204    5400.0\n",
       "Name: peak-rpm, Length: 205, dtype: float64>"
      ]
     },
     "execution_count": 32,
     "metadata": {},
     "output_type": "execute_result"
    }
   ],
   "source": [
    "df[\"peak-rpm\"].value_counts"
   ]
  },
  {
   "cell_type": "code",
   "execution_count": 33,
   "id": "f16883eb",
   "metadata": {},
   "outputs": [],
   "source": [
    "df.horsepower=pd.to_numeric(df.horsepower)"
   ]
  },
  {
   "cell_type": "code",
   "execution_count": 34,
   "id": "a74734d9",
   "metadata": {},
   "outputs": [],
   "source": [
    "df.horsepower.fillna(df.horsepower.mean(),inplace=True)"
   ]
  },
  {
   "cell_type": "code",
   "execution_count": 35,
   "id": "0d42acf0",
   "metadata": {},
   "outputs": [
    {
     "data": {
      "text/plain": [
       "<bound method IndexOpsMixin.value_counts of 0      111.0\n",
       "1      111.0\n",
       "2      154.0\n",
       "3      102.0\n",
       "4      115.0\n",
       "       ...  \n",
       "200    114.0\n",
       "201    160.0\n",
       "202    134.0\n",
       "203    106.0\n",
       "204    114.0\n",
       "Name: horsepower, Length: 205, dtype: float64>"
      ]
     },
     "execution_count": 35,
     "metadata": {},
     "output_type": "execute_result"
    }
   ],
   "source": [
    "df.horsepower.value_counts"
   ]
  },
  {
   "cell_type": "code",
   "execution_count": 36,
   "id": "e993fe9c",
   "metadata": {},
   "outputs": [
    {
     "data": {
      "text/html": [
       "<div>\n",
       "<style scoped>\n",
       "    .dataframe tbody tr th:only-of-type {\n",
       "        vertical-align: middle;\n",
       "    }\n",
       "\n",
       "    .dataframe tbody tr th {\n",
       "        vertical-align: top;\n",
       "    }\n",
       "\n",
       "    .dataframe thead th {\n",
       "        text-align: right;\n",
       "    }\n",
       "</style>\n",
       "<table border=\"1\" class=\"dataframe\">\n",
       "  <thead>\n",
       "    <tr style=\"text-align: right;\">\n",
       "      <th></th>\n",
       "      <th>risk factor</th>\n",
       "      <th>losses</th>\n",
       "      <th>wheel base</th>\n",
       "      <th>length</th>\n",
       "      <th>width</th>\n",
       "      <th>height</th>\n",
       "      <th>weight of curb</th>\n",
       "      <th>size of engine</th>\n",
       "      <th>bore</th>\n",
       "      <th>stroke</th>\n",
       "      <th>ratio of comprehenssion</th>\n",
       "      <th>horsepower</th>\n",
       "      <th>peak-rpm</th>\n",
       "      <th>mpg in city</th>\n",
       "      <th>mpg on highway</th>\n",
       "    </tr>\n",
       "  </thead>\n",
       "  <tbody>\n",
       "    <tr>\n",
       "      <th>count</th>\n",
       "      <td>205.000000</td>\n",
       "      <td>205.000000</td>\n",
       "      <td>205.000000</td>\n",
       "      <td>205.000000</td>\n",
       "      <td>205.000000</td>\n",
       "      <td>205.000000</td>\n",
       "      <td>205.000000</td>\n",
       "      <td>205.000000</td>\n",
       "      <td>205.000000</td>\n",
       "      <td>205.000000</td>\n",
       "      <td>205.000000</td>\n",
       "      <td>205.000000</td>\n",
       "      <td>203.000000</td>\n",
       "      <td>205.000000</td>\n",
       "      <td>205.000000</td>\n",
       "    </tr>\n",
       "    <tr>\n",
       "      <th>mean</th>\n",
       "      <td>0.834146</td>\n",
       "      <td>122.000000</td>\n",
       "      <td>98.756585</td>\n",
       "      <td>174.049268</td>\n",
       "      <td>65.907805</td>\n",
       "      <td>53.724878</td>\n",
       "      <td>2555.565854</td>\n",
       "      <td>126.907317</td>\n",
       "      <td>3.329751</td>\n",
       "      <td>3.255423</td>\n",
       "      <td>10.142537</td>\n",
       "      <td>104.256158</td>\n",
       "      <td>5125.369458</td>\n",
       "      <td>25.219512</td>\n",
       "      <td>30.751220</td>\n",
       "    </tr>\n",
       "    <tr>\n",
       "      <th>std</th>\n",
       "      <td>1.245307</td>\n",
       "      <td>31.681008</td>\n",
       "      <td>6.021776</td>\n",
       "      <td>12.337289</td>\n",
       "      <td>2.145204</td>\n",
       "      <td>2.443522</td>\n",
       "      <td>520.680204</td>\n",
       "      <td>41.642693</td>\n",
       "      <td>0.270844</td>\n",
       "      <td>0.313597</td>\n",
       "      <td>3.972040</td>\n",
       "      <td>39.519211</td>\n",
       "      <td>479.334560</td>\n",
       "      <td>6.542142</td>\n",
       "      <td>6.886443</td>\n",
       "    </tr>\n",
       "    <tr>\n",
       "      <th>min</th>\n",
       "      <td>-2.000000</td>\n",
       "      <td>65.000000</td>\n",
       "      <td>86.600000</td>\n",
       "      <td>141.100000</td>\n",
       "      <td>60.300000</td>\n",
       "      <td>47.800000</td>\n",
       "      <td>1488.000000</td>\n",
       "      <td>61.000000</td>\n",
       "      <td>2.540000</td>\n",
       "      <td>2.070000</td>\n",
       "      <td>7.000000</td>\n",
       "      <td>48.000000</td>\n",
       "      <td>4150.000000</td>\n",
       "      <td>13.000000</td>\n",
       "      <td>16.000000</td>\n",
       "    </tr>\n",
       "    <tr>\n",
       "      <th>25%</th>\n",
       "      <td>0.000000</td>\n",
       "      <td>101.000000</td>\n",
       "      <td>94.500000</td>\n",
       "      <td>166.300000</td>\n",
       "      <td>64.100000</td>\n",
       "      <td>52.000000</td>\n",
       "      <td>2145.000000</td>\n",
       "      <td>97.000000</td>\n",
       "      <td>3.150000</td>\n",
       "      <td>3.110000</td>\n",
       "      <td>8.600000</td>\n",
       "      <td>70.000000</td>\n",
       "      <td>4800.000000</td>\n",
       "      <td>19.000000</td>\n",
       "      <td>25.000000</td>\n",
       "    </tr>\n",
       "    <tr>\n",
       "      <th>50%</th>\n",
       "      <td>1.000000</td>\n",
       "      <td>122.000000</td>\n",
       "      <td>97.000000</td>\n",
       "      <td>173.200000</td>\n",
       "      <td>65.500000</td>\n",
       "      <td>54.100000</td>\n",
       "      <td>2414.000000</td>\n",
       "      <td>120.000000</td>\n",
       "      <td>3.310000</td>\n",
       "      <td>3.290000</td>\n",
       "      <td>9.000000</td>\n",
       "      <td>95.000000</td>\n",
       "      <td>5200.000000</td>\n",
       "      <td>24.000000</td>\n",
       "      <td>30.000000</td>\n",
       "    </tr>\n",
       "    <tr>\n",
       "      <th>75%</th>\n",
       "      <td>2.000000</td>\n",
       "      <td>137.000000</td>\n",
       "      <td>102.400000</td>\n",
       "      <td>183.100000</td>\n",
       "      <td>66.900000</td>\n",
       "      <td>55.500000</td>\n",
       "      <td>2935.000000</td>\n",
       "      <td>141.000000</td>\n",
       "      <td>3.580000</td>\n",
       "      <td>3.410000</td>\n",
       "      <td>9.400000</td>\n",
       "      <td>116.000000</td>\n",
       "      <td>5500.000000</td>\n",
       "      <td>30.000000</td>\n",
       "      <td>34.000000</td>\n",
       "    </tr>\n",
       "    <tr>\n",
       "      <th>max</th>\n",
       "      <td>3.000000</td>\n",
       "      <td>256.000000</td>\n",
       "      <td>120.900000</td>\n",
       "      <td>208.100000</td>\n",
       "      <td>72.300000</td>\n",
       "      <td>59.800000</td>\n",
       "      <td>4066.000000</td>\n",
       "      <td>326.000000</td>\n",
       "      <td>3.940000</td>\n",
       "      <td>4.170000</td>\n",
       "      <td>23.000000</td>\n",
       "      <td>288.000000</td>\n",
       "      <td>6600.000000</td>\n",
       "      <td>49.000000</td>\n",
       "      <td>54.000000</td>\n",
       "    </tr>\n",
       "  </tbody>\n",
       "</table>\n",
       "</div>"
      ],
      "text/plain": [
       "       risk factor      losses  wheel base      length       width  \\\n",
       "count   205.000000  205.000000  205.000000  205.000000  205.000000   \n",
       "mean      0.834146  122.000000   98.756585  174.049268   65.907805   \n",
       "std       1.245307   31.681008    6.021776   12.337289    2.145204   \n",
       "min      -2.000000   65.000000   86.600000  141.100000   60.300000   \n",
       "25%       0.000000  101.000000   94.500000  166.300000   64.100000   \n",
       "50%       1.000000  122.000000   97.000000  173.200000   65.500000   \n",
       "75%       2.000000  137.000000  102.400000  183.100000   66.900000   \n",
       "max       3.000000  256.000000  120.900000  208.100000   72.300000   \n",
       "\n",
       "           height  weight of curb  size of engine        bore      stroke  \\\n",
       "count  205.000000      205.000000      205.000000  205.000000  205.000000   \n",
       "mean    53.724878     2555.565854      126.907317    3.329751    3.255423   \n",
       "std      2.443522      520.680204       41.642693    0.270844    0.313597   \n",
       "min     47.800000     1488.000000       61.000000    2.540000    2.070000   \n",
       "25%     52.000000     2145.000000       97.000000    3.150000    3.110000   \n",
       "50%     54.100000     2414.000000      120.000000    3.310000    3.290000   \n",
       "75%     55.500000     2935.000000      141.000000    3.580000    3.410000   \n",
       "max     59.800000     4066.000000      326.000000    3.940000    4.170000   \n",
       "\n",
       "       ratio of comprehenssion  horsepower     peak-rpm  mpg in city  \\\n",
       "count               205.000000  205.000000   203.000000   205.000000   \n",
       "mean                 10.142537  104.256158  5125.369458    25.219512   \n",
       "std                   3.972040   39.519211   479.334560     6.542142   \n",
       "min                   7.000000   48.000000  4150.000000    13.000000   \n",
       "25%                   8.600000   70.000000  4800.000000    19.000000   \n",
       "50%                   9.000000   95.000000  5200.000000    24.000000   \n",
       "75%                   9.400000  116.000000  5500.000000    30.000000   \n",
       "max                  23.000000  288.000000  6600.000000    49.000000   \n",
       "\n",
       "       mpg on highway  \n",
       "count      205.000000  \n",
       "mean        30.751220  \n",
       "std          6.886443  \n",
       "min         16.000000  \n",
       "25%         25.000000  \n",
       "50%         30.000000  \n",
       "75%         34.000000  \n",
       "max         54.000000  "
      ]
     },
     "execution_count": 36,
     "metadata": {},
     "output_type": "execute_result"
    }
   ],
   "source": [
    "df.describe()"
   ]
  },
  {
   "cell_type": "code",
   "execution_count": 37,
   "id": "d4e91f76",
   "metadata": {
    "scrolled": true
   },
   "outputs": [
    {
     "name": "stdout",
     "output_type": "stream",
     "text": [
      "make\n",
      "toyota           32\n",
      "nissan           18\n",
      "mazda            17\n",
      "mitsubishi       13\n",
      "honda            13\n",
      "volkswagen       12\n",
      "subaru           12\n",
      "peugot           11\n",
      "volvo            11\n",
      "dodge             9\n",
      "mercedes-benz     8\n",
      "bmw               8\n",
      "audi              7\n",
      "plymouth          7\n",
      "saab              6\n",
      "porsche           5\n",
      "isuzu             4\n",
      "jaguar            3\n",
      "chevrolet         3\n",
      "alfa-romero       3\n",
      "renault           2\n",
      "mercury           1\n",
      "Name: make, dtype: int64\n",
      "type of fuel\n",
      "gas       185\n",
      "diesel     20\n",
      "Name: type of fuel, dtype: int64\n",
      "aspiration\n",
      "std      168\n",
      "turbo     37\n",
      "Name: aspiration, dtype: int64\n",
      "total doors\n",
      "four    116\n",
      "two      89\n",
      "Name: total doors, dtype: int64\n",
      "body\n",
      "sedan          96\n",
      "hatchback      70\n",
      "wagon          25\n",
      "hardtop         8\n",
      "convertible     6\n",
      "Name: body, dtype: int64\n",
      "wheels\n",
      "fwd    120\n",
      "rwd     76\n",
      "4wd      9\n",
      "Name: wheels, dtype: int64\n",
      "location of engine\n",
      "front    202\n",
      "rear       3\n",
      "Name: location of engine, dtype: int64\n",
      "type of engine\n",
      "ohc      148\n",
      "ohcf      15\n",
      "ohcv      13\n",
      "dohc      12\n",
      "l         12\n",
      "rotor      4\n",
      "dohcv      1\n",
      "Name: type of engine, dtype: int64\n",
      "total cylinders\n",
      "four      159\n",
      "six        24\n",
      "five       11\n",
      "eight       5\n",
      "two         4\n",
      "three       1\n",
      "twelve      1\n",
      "Name: total cylinders, dtype: int64\n",
      "system of fuel\n",
      "mpfi    94\n",
      "2bbl    66\n",
      "idi     20\n",
      "1bbl    11\n",
      "spdi     9\n",
      "4bbl     3\n",
      "mfi      1\n",
      "spfi     1\n",
      "Name: system of fuel, dtype: int64\n",
      "total price\n",
      "8921     2\n",
      "18150    2\n",
      "8845     2\n",
      "8495     2\n",
      "7775     2\n",
      "        ..\n",
      "45400    1\n",
      "16503    1\n",
      "5389     1\n",
      "6189     1\n",
      "22625    1\n",
      "Name: total price, Length: 188, dtype: int64\n"
     ]
    }
   ],
   "source": [
    "for i in df.columns:\n",
    "    if df[i].dtypes==\"O\":\n",
    "        a=df[i].value_counts()\n",
    "        print(i)\n",
    "        print(a)"
   ]
  },
  {
   "cell_type": "code",
   "execution_count": 38,
   "id": "b2e1474b",
   "metadata": {},
   "outputs": [
    {
     "data": {
      "text/plain": [
       "array(['13495', '16500', '13950', '17450', '15250', '17710', '18920',\n",
       "       '23875', '?', '16430', '16925', '20970', '21105', '24565', '30760',\n",
       "       '41315', '36880', '5151', '6295', '6575', '5572', '6377', '7957',\n",
       "       '6229', '6692', '7609', '8558', '8921', '12964', '6479', '6855',\n",
       "       '5399', '6529', '7129', '7295', '7895', '9095', '8845', '10295',\n",
       "       '12945', '10345', '6785', '$', '11048', '32250', '35550', '36000',\n",
       "       '5195', '6095', '6795', '6695', '7395', '10945', '11845', '13645',\n",
       "       '15645', '8495', '10595', '10245', '10795', '11245', '18280',\n",
       "       '18344', '25552', '28248', '28176', '31600', '34184', '35056',\n",
       "       '40960', '45400', '16503', '5389', '6189', '6669', '7689', '9959',\n",
       "       '8499', '12629', '14869', '14489', '6989', '8189', '9279', '5499',\n",
       "       '7099', '6649', '6849', '7349', '7299', '7799', '7499', '7999',\n",
       "       '8249', '8949', '9549', '13499', '14399', '17199', '19699',\n",
       "       '18399', '11900', '13200', '12440', '13860', '15580', '16900',\n",
       "       '16695', '17075', '16630', '17950', '18150', '12764', '22018',\n",
       "       '32528', '34028', '37028', '9295', '9895', '11850', '12170',\n",
       "       '15040', '15510', '18620', '5118', '7053', '7603', '7126', '7775',\n",
       "       '9960', '9233', '11259', '7463', '10198', '8013', '11694', '5348',\n",
       "       '6338', '6488', '6918', '7898', '8778', '6938', '7198', '7788',\n",
       "       '7738', '8358', '9258', '8058', '8238', '9298', '9538', '8449',\n",
       "       '9639', '9989', '11199', '11549', '17669', '8948', '10698', '9988',\n",
       "       '10898', '11248', '16558', '15998', '15690', '15750', '7975',\n",
       "       '7995', '8195', '9495', '9995', '11595', '9980', '13295', '13845',\n",
       "       '12290', '12940', '13415', '15985', '16515', '18420', '18950',\n",
       "       '16845', '19045', '21485', '22470', '22625'], dtype=object)"
      ]
     },
     "execution_count": 38,
     "metadata": {},
     "output_type": "execute_result"
    }
   ],
   "source": [
    "df[\"total price\"].unique()"
   ]
  },
  {
   "cell_type": "code",
   "execution_count": 39,
   "id": "7f788463",
   "metadata": {},
   "outputs": [
    {
     "data": {
      "text/plain": [
       "(205, 26)"
      ]
     },
     "execution_count": 39,
     "metadata": {},
     "output_type": "execute_result"
    }
   ],
   "source": [
    "df.shape"
   ]
  },
  {
   "cell_type": "code",
   "execution_count": 40,
   "id": "eab40721",
   "metadata": {
    "scrolled": false
   },
   "outputs": [
    {
     "data": {
      "text/html": [
       "<div>\n",
       "<style scoped>\n",
       "    .dataframe tbody tr th:only-of-type {\n",
       "        vertical-align: middle;\n",
       "    }\n",
       "\n",
       "    .dataframe tbody tr th {\n",
       "        vertical-align: top;\n",
       "    }\n",
       "\n",
       "    .dataframe thead th {\n",
       "        text-align: right;\n",
       "    }\n",
       "</style>\n",
       "<table border=\"1\" class=\"dataframe\">\n",
       "  <thead>\n",
       "    <tr style=\"text-align: right;\">\n",
       "      <th></th>\n",
       "      <th>risk factor</th>\n",
       "      <th>losses</th>\n",
       "      <th>make</th>\n",
       "      <th>type of fuel</th>\n",
       "      <th>aspiration</th>\n",
       "      <th>total doors</th>\n",
       "      <th>body</th>\n",
       "      <th>wheels</th>\n",
       "      <th>location of engine</th>\n",
       "      <th>wheel base</th>\n",
       "      <th>...</th>\n",
       "      <th>size of engine</th>\n",
       "      <th>system of fuel</th>\n",
       "      <th>bore</th>\n",
       "      <th>stroke</th>\n",
       "      <th>ratio of comprehenssion</th>\n",
       "      <th>horsepower</th>\n",
       "      <th>peak-rpm</th>\n",
       "      <th>mpg in city</th>\n",
       "      <th>mpg on highway</th>\n",
       "      <th>total price</th>\n",
       "    </tr>\n",
       "  </thead>\n",
       "  <tbody>\n",
       "    <tr>\n",
       "      <th>9</th>\n",
       "      <td>0</td>\n",
       "      <td>122.0</td>\n",
       "      <td>audi</td>\n",
       "      <td>gas</td>\n",
       "      <td>turbo</td>\n",
       "      <td>two</td>\n",
       "      <td>hatchback</td>\n",
       "      <td>4wd</td>\n",
       "      <td>front</td>\n",
       "      <td>99.5</td>\n",
       "      <td>...</td>\n",
       "      <td>131</td>\n",
       "      <td>mpfi</td>\n",
       "      <td>3.13</td>\n",
       "      <td>3.40</td>\n",
       "      <td>7.0</td>\n",
       "      <td>160.0</td>\n",
       "      <td>5500.0</td>\n",
       "      <td>16</td>\n",
       "      <td>22</td>\n",
       "      <td>?</td>\n",
       "    </tr>\n",
       "    <tr>\n",
       "      <th>129</th>\n",
       "      <td>1</td>\n",
       "      <td>122.0</td>\n",
       "      <td>porsche</td>\n",
       "      <td>gas</td>\n",
       "      <td>std</td>\n",
       "      <td>two</td>\n",
       "      <td>hatchback</td>\n",
       "      <td>rwd</td>\n",
       "      <td>front</td>\n",
       "      <td>98.4</td>\n",
       "      <td>...</td>\n",
       "      <td>203</td>\n",
       "      <td>mpfi</td>\n",
       "      <td>3.94</td>\n",
       "      <td>3.11</td>\n",
       "      <td>10.0</td>\n",
       "      <td>288.0</td>\n",
       "      <td>5750.0</td>\n",
       "      <td>17</td>\n",
       "      <td>28</td>\n",
       "      <td>?</td>\n",
       "    </tr>\n",
       "  </tbody>\n",
       "</table>\n",
       "<p>2 rows × 26 columns</p>\n",
       "</div>"
      ],
      "text/plain": [
       "     risk factor  losses     make type of fuel aspiration total doors  \\\n",
       "9              0   122.0     audi          gas      turbo         two   \n",
       "129            1   122.0  porsche          gas        std         two   \n",
       "\n",
       "          body wheels location of engine  wheel base  ...  size of engine  \\\n",
       "9    hatchback    4wd              front        99.5  ...             131   \n",
       "129  hatchback    rwd              front        98.4  ...             203   \n",
       "\n",
       "     system of fuel  bore  stroke ratio of comprehenssion horsepower  \\\n",
       "9              mpfi  3.13    3.40                     7.0      160.0   \n",
       "129            mpfi  3.94    3.11                    10.0      288.0   \n",
       "\n",
       "     peak-rpm mpg in city  mpg on highway  total price  \n",
       "9      5500.0          16              22            ?  \n",
       "129    5750.0          17              28            ?  \n",
       "\n",
       "[2 rows x 26 columns]"
      ]
     },
     "execution_count": 40,
     "metadata": {},
     "output_type": "execute_result"
    }
   ],
   "source": [
    "df[df[\"total price\"]==\"?\"]"
   ]
  },
  {
   "cell_type": "code",
   "execution_count": 41,
   "id": "17b8848a",
   "metadata": {},
   "outputs": [
    {
     "data": {
      "text/html": [
       "<div>\n",
       "<style scoped>\n",
       "    .dataframe tbody tr th:only-of-type {\n",
       "        vertical-align: middle;\n",
       "    }\n",
       "\n",
       "    .dataframe tbody tr th {\n",
       "        vertical-align: top;\n",
       "    }\n",
       "\n",
       "    .dataframe thead th {\n",
       "        text-align: right;\n",
       "    }\n",
       "</style>\n",
       "<table border=\"1\" class=\"dataframe\">\n",
       "  <thead>\n",
       "    <tr style=\"text-align: right;\">\n",
       "      <th></th>\n",
       "      <th>risk factor</th>\n",
       "      <th>losses</th>\n",
       "      <th>make</th>\n",
       "      <th>type of fuel</th>\n",
       "      <th>aspiration</th>\n",
       "      <th>total doors</th>\n",
       "      <th>body</th>\n",
       "      <th>wheels</th>\n",
       "      <th>location of engine</th>\n",
       "      <th>wheel base</th>\n",
       "      <th>...</th>\n",
       "      <th>size of engine</th>\n",
       "      <th>system of fuel</th>\n",
       "      <th>bore</th>\n",
       "      <th>stroke</th>\n",
       "      <th>ratio of comprehenssion</th>\n",
       "      <th>horsepower</th>\n",
       "      <th>peak-rpm</th>\n",
       "      <th>mpg in city</th>\n",
       "      <th>mpg on highway</th>\n",
       "      <th>total price</th>\n",
       "    </tr>\n",
       "  </thead>\n",
       "  <tbody>\n",
       "    <tr>\n",
       "      <th>44</th>\n",
       "      <td>1</td>\n",
       "      <td>122.0</td>\n",
       "      <td>isuzu</td>\n",
       "      <td>gas</td>\n",
       "      <td>std</td>\n",
       "      <td>two</td>\n",
       "      <td>sedan</td>\n",
       "      <td>fwd</td>\n",
       "      <td>front</td>\n",
       "      <td>94.5</td>\n",
       "      <td>...</td>\n",
       "      <td>90</td>\n",
       "      <td>2bbl</td>\n",
       "      <td>3.03</td>\n",
       "      <td>3.11</td>\n",
       "      <td>9.6</td>\n",
       "      <td>70.0</td>\n",
       "      <td>5400.0</td>\n",
       "      <td>38</td>\n",
       "      <td>43</td>\n",
       "      <td>$</td>\n",
       "    </tr>\n",
       "    <tr>\n",
       "      <th>45</th>\n",
       "      <td>0</td>\n",
       "      <td>122.0</td>\n",
       "      <td>isuzu</td>\n",
       "      <td>gas</td>\n",
       "      <td>std</td>\n",
       "      <td>four</td>\n",
       "      <td>sedan</td>\n",
       "      <td>fwd</td>\n",
       "      <td>front</td>\n",
       "      <td>94.5</td>\n",
       "      <td>...</td>\n",
       "      <td>90</td>\n",
       "      <td>2bbl</td>\n",
       "      <td>3.03</td>\n",
       "      <td>3.11</td>\n",
       "      <td>9.6</td>\n",
       "      <td>70.0</td>\n",
       "      <td>5400.0</td>\n",
       "      <td>38</td>\n",
       "      <td>43</td>\n",
       "      <td>$</td>\n",
       "    </tr>\n",
       "  </tbody>\n",
       "</table>\n",
       "<p>2 rows × 26 columns</p>\n",
       "</div>"
      ],
      "text/plain": [
       "    risk factor  losses   make type of fuel aspiration total doors   body  \\\n",
       "44            1   122.0  isuzu          gas        std         two  sedan   \n",
       "45            0   122.0  isuzu          gas        std        four  sedan   \n",
       "\n",
       "   wheels location of engine  wheel base  ...  size of engine  system of fuel  \\\n",
       "44    fwd              front        94.5  ...              90            2bbl   \n",
       "45    fwd              front        94.5  ...              90            2bbl   \n",
       "\n",
       "    bore  stroke ratio of comprehenssion horsepower  peak-rpm mpg in city  \\\n",
       "44  3.03    3.11                     9.6       70.0    5400.0          38   \n",
       "45  3.03    3.11                     9.6       70.0    5400.0          38   \n",
       "\n",
       "    mpg on highway  total price  \n",
       "44              43            $  \n",
       "45              43            $  \n",
       "\n",
       "[2 rows x 26 columns]"
      ]
     },
     "execution_count": 41,
     "metadata": {},
     "output_type": "execute_result"
    }
   ],
   "source": [
    "df[df[\"total price\"]==\"$\"]"
   ]
  },
  {
   "cell_type": "code",
   "execution_count": 42,
   "id": "002fe327",
   "metadata": {},
   "outputs": [],
   "source": [
    "df[\"total price\"].replace(to_replace=\"?\",value=\"\",inplace=True)"
   ]
  },
  {
   "cell_type": "code",
   "execution_count": 43,
   "id": "9e63eab8",
   "metadata": {},
   "outputs": [],
   "source": [
    "df[\"total price\"].replace(to_replace=\"$\",value=\"\",inplace=True)"
   ]
  },
  {
   "cell_type": "code",
   "execution_count": 44,
   "id": "fa26c04c",
   "metadata": {},
   "outputs": [],
   "source": [
    "df[\"total price\"]=pd.to_numeric(df[\"total price\"])"
   ]
  },
  {
   "cell_type": "code",
   "execution_count": 45,
   "id": "c6f475fa",
   "metadata": {},
   "outputs": [],
   "source": [
    "df[\"total price\"].fillna(df[\"total price\"].mean(),inplace=True)"
   ]
  },
  {
   "cell_type": "code",
   "execution_count": 46,
   "id": "984b1c26",
   "metadata": {},
   "outputs": [],
   "source": [
    "df.dropna(axis=0,inplace=True)"
   ]
  },
  {
   "cell_type": "code",
   "execution_count": 47,
   "id": "68c1beb2",
   "metadata": {
    "scrolled": true
   },
   "outputs": [
    {
     "data": {
      "text/plain": [
       "(203, 26)"
      ]
     },
     "execution_count": 47,
     "metadata": {},
     "output_type": "execute_result"
    }
   ],
   "source": [
    "df.shape"
   ]
  },
  {
   "cell_type": "code",
   "execution_count": 48,
   "id": "aa49399f",
   "metadata": {},
   "outputs": [],
   "source": [
    "df['losses']=df['losses'].round(2)"
   ]
  },
  {
   "cell_type": "code",
   "execution_count": 49,
   "id": "53215d13",
   "metadata": {},
   "outputs": [],
   "source": [
    "df['bore']=df['bore'].round(2)"
   ]
  },
  {
   "cell_type": "code",
   "execution_count": 50,
   "id": "d458a621",
   "metadata": {},
   "outputs": [],
   "source": [
    "df['stroke']=df['stroke'].round(2)"
   ]
  },
  {
   "cell_type": "code",
   "execution_count": 51,
   "id": "d63af826",
   "metadata": {},
   "outputs": [],
   "source": [
    "df['horsepower']=df['horsepower'].round(2)"
   ]
  },
  {
   "cell_type": "code",
   "execution_count": 52,
   "id": "482e3488",
   "metadata": {},
   "outputs": [],
   "source": [
    "df['total price']=df['total price'].round(2)"
   ]
  },
  {
   "cell_type": "code",
   "execution_count": 53,
   "id": "7ccbb8b2",
   "metadata": {},
   "outputs": [
    {
     "data": {
      "text/html": [
       "<div>\n",
       "<style scoped>\n",
       "    .dataframe tbody tr th:only-of-type {\n",
       "        vertical-align: middle;\n",
       "    }\n",
       "\n",
       "    .dataframe tbody tr th {\n",
       "        vertical-align: top;\n",
       "    }\n",
       "\n",
       "    .dataframe thead th {\n",
       "        text-align: right;\n",
       "    }\n",
       "</style>\n",
       "<table border=\"1\" class=\"dataframe\">\n",
       "  <thead>\n",
       "    <tr style=\"text-align: right;\">\n",
       "      <th></th>\n",
       "      <th>risk factor</th>\n",
       "      <th>losses</th>\n",
       "      <th>wheel base</th>\n",
       "      <th>length</th>\n",
       "      <th>width</th>\n",
       "      <th>height</th>\n",
       "      <th>weight of curb</th>\n",
       "      <th>size of engine</th>\n",
       "      <th>bore</th>\n",
       "      <th>stroke</th>\n",
       "      <th>ratio of comprehenssion</th>\n",
       "      <th>horsepower</th>\n",
       "      <th>peak-rpm</th>\n",
       "      <th>mpg in city</th>\n",
       "      <th>mpg on highway</th>\n",
       "      <th>total price</th>\n",
       "    </tr>\n",
       "  </thead>\n",
       "  <tbody>\n",
       "    <tr>\n",
       "      <th>count</th>\n",
       "      <td>203.000000</td>\n",
       "      <td>203.000000</td>\n",
       "      <td>203.000000</td>\n",
       "      <td>203.000000</td>\n",
       "      <td>203.000000</td>\n",
       "      <td>203.000000</td>\n",
       "      <td>203.000000</td>\n",
       "      <td>203.000000</td>\n",
       "      <td>203.000000</td>\n",
       "      <td>203.000000</td>\n",
       "      <td>203.000000</td>\n",
       "      <td>203.000000</td>\n",
       "      <td>203.000000</td>\n",
       "      <td>203.000000</td>\n",
       "      <td>203.000000</td>\n",
       "      <td>203.000000</td>\n",
       "    </tr>\n",
       "    <tr>\n",
       "      <th>mean</th>\n",
       "      <td>0.832512</td>\n",
       "      <td>122.000000</td>\n",
       "      <td>98.782759</td>\n",
       "      <td>173.999015</td>\n",
       "      <td>65.901478</td>\n",
       "      <td>53.733498</td>\n",
       "      <td>2555.921182</td>\n",
       "      <td>126.857143</td>\n",
       "      <td>3.328473</td>\n",
       "      <td>3.249163</td>\n",
       "      <td>10.156749</td>\n",
       "      <td>104.256158</td>\n",
       "      <td>5125.369458</td>\n",
       "      <td>25.241379</td>\n",
       "      <td>30.748768</td>\n",
       "      <td>13242.716847</td>\n",
       "    </tr>\n",
       "    <tr>\n",
       "      <th>std</th>\n",
       "      <td>1.247384</td>\n",
       "      <td>31.837458</td>\n",
       "      <td>6.045680</td>\n",
       "      <td>12.385511</td>\n",
       "      <td>2.154835</td>\n",
       "      <td>2.442864</td>\n",
       "      <td>523.205555</td>\n",
       "      <td>41.845239</td>\n",
       "      <td>0.271869</td>\n",
       "      <td>0.308487</td>\n",
       "      <td>3.989048</td>\n",
       "      <td>39.714369</td>\n",
       "      <td>479.334560</td>\n",
       "      <td>6.570702</td>\n",
       "      <td>6.920406</td>\n",
       "      <td>7899.317128</td>\n",
       "    </tr>\n",
       "    <tr>\n",
       "      <th>min</th>\n",
       "      <td>-2.000000</td>\n",
       "      <td>65.000000</td>\n",
       "      <td>86.600000</td>\n",
       "      <td>141.100000</td>\n",
       "      <td>60.300000</td>\n",
       "      <td>47.800000</td>\n",
       "      <td>1488.000000</td>\n",
       "      <td>61.000000</td>\n",
       "      <td>2.540000</td>\n",
       "      <td>2.070000</td>\n",
       "      <td>7.000000</td>\n",
       "      <td>48.000000</td>\n",
       "      <td>4150.000000</td>\n",
       "      <td>13.000000</td>\n",
       "      <td>16.000000</td>\n",
       "      <td>5118.000000</td>\n",
       "    </tr>\n",
       "    <tr>\n",
       "      <th>25%</th>\n",
       "      <td>0.000000</td>\n",
       "      <td>101.000000</td>\n",
       "      <td>94.500000</td>\n",
       "      <td>166.300000</td>\n",
       "      <td>64.050000</td>\n",
       "      <td>52.000000</td>\n",
       "      <td>2145.000000</td>\n",
       "      <td>97.000000</td>\n",
       "      <td>3.150000</td>\n",
       "      <td>3.110000</td>\n",
       "      <td>8.550000</td>\n",
       "      <td>70.000000</td>\n",
       "      <td>4800.000000</td>\n",
       "      <td>19.000000</td>\n",
       "      <td>25.000000</td>\n",
       "      <td>7781.500000</td>\n",
       "    </tr>\n",
       "    <tr>\n",
       "      <th>50%</th>\n",
       "      <td>1.000000</td>\n",
       "      <td>122.000000</td>\n",
       "      <td>97.000000</td>\n",
       "      <td>173.200000</td>\n",
       "      <td>65.500000</td>\n",
       "      <td>54.100000</td>\n",
       "      <td>2414.000000</td>\n",
       "      <td>119.000000</td>\n",
       "      <td>3.310000</td>\n",
       "      <td>3.290000</td>\n",
       "      <td>9.000000</td>\n",
       "      <td>95.000000</td>\n",
       "      <td>5200.000000</td>\n",
       "      <td>24.000000</td>\n",
       "      <td>30.000000</td>\n",
       "      <td>10698.000000</td>\n",
       "    </tr>\n",
       "    <tr>\n",
       "      <th>75%</th>\n",
       "      <td>2.000000</td>\n",
       "      <td>137.000000</td>\n",
       "      <td>102.400000</td>\n",
       "      <td>183.300000</td>\n",
       "      <td>66.900000</td>\n",
       "      <td>55.500000</td>\n",
       "      <td>2943.500000</td>\n",
       "      <td>143.000000</td>\n",
       "      <td>3.585000</td>\n",
       "      <td>3.405000</td>\n",
       "      <td>9.400000</td>\n",
       "      <td>116.000000</td>\n",
       "      <td>5500.000000</td>\n",
       "      <td>30.000000</td>\n",
       "      <td>35.000000</td>\n",
       "      <td>16500.000000</td>\n",
       "    </tr>\n",
       "    <tr>\n",
       "      <th>max</th>\n",
       "      <td>3.000000</td>\n",
       "      <td>256.000000</td>\n",
       "      <td>120.900000</td>\n",
       "      <td>208.100000</td>\n",
       "      <td>72.300000</td>\n",
       "      <td>59.800000</td>\n",
       "      <td>4066.000000</td>\n",
       "      <td>326.000000</td>\n",
       "      <td>3.940000</td>\n",
       "      <td>4.170000</td>\n",
       "      <td>23.000000</td>\n",
       "      <td>288.000000</td>\n",
       "      <td>6600.000000</td>\n",
       "      <td>49.000000</td>\n",
       "      <td>54.000000</td>\n",
       "      <td>45400.000000</td>\n",
       "    </tr>\n",
       "  </tbody>\n",
       "</table>\n",
       "</div>"
      ],
      "text/plain": [
       "       risk factor      losses  wheel base      length       width  \\\n",
       "count   203.000000  203.000000  203.000000  203.000000  203.000000   \n",
       "mean      0.832512  122.000000   98.782759  173.999015   65.901478   \n",
       "std       1.247384   31.837458    6.045680   12.385511    2.154835   \n",
       "min      -2.000000   65.000000   86.600000  141.100000   60.300000   \n",
       "25%       0.000000  101.000000   94.500000  166.300000   64.050000   \n",
       "50%       1.000000  122.000000   97.000000  173.200000   65.500000   \n",
       "75%       2.000000  137.000000  102.400000  183.300000   66.900000   \n",
       "max       3.000000  256.000000  120.900000  208.100000   72.300000   \n",
       "\n",
       "           height  weight of curb  size of engine        bore      stroke  \\\n",
       "count  203.000000      203.000000      203.000000  203.000000  203.000000   \n",
       "mean    53.733498     2555.921182      126.857143    3.328473    3.249163   \n",
       "std      2.442864      523.205555       41.845239    0.271869    0.308487   \n",
       "min     47.800000     1488.000000       61.000000    2.540000    2.070000   \n",
       "25%     52.000000     2145.000000       97.000000    3.150000    3.110000   \n",
       "50%     54.100000     2414.000000      119.000000    3.310000    3.290000   \n",
       "75%     55.500000     2943.500000      143.000000    3.585000    3.405000   \n",
       "max     59.800000     4066.000000      326.000000    3.940000    4.170000   \n",
       "\n",
       "       ratio of comprehenssion  horsepower     peak-rpm  mpg in city  \\\n",
       "count               203.000000  203.000000   203.000000   203.000000   \n",
       "mean                 10.156749  104.256158  5125.369458    25.241379   \n",
       "std                   3.989048   39.714369   479.334560     6.570702   \n",
       "min                   7.000000   48.000000  4150.000000    13.000000   \n",
       "25%                   8.550000   70.000000  4800.000000    19.000000   \n",
       "50%                   9.000000   95.000000  5200.000000    24.000000   \n",
       "75%                   9.400000  116.000000  5500.000000    30.000000   \n",
       "max                  23.000000  288.000000  6600.000000    49.000000   \n",
       "\n",
       "       mpg on highway   total price  \n",
       "count      203.000000    203.000000  \n",
       "mean        30.748768  13242.716847  \n",
       "std          6.920406   7899.317128  \n",
       "min         16.000000   5118.000000  \n",
       "25%         25.000000   7781.500000  \n",
       "50%         30.000000  10698.000000  \n",
       "75%         35.000000  16500.000000  \n",
       "max         54.000000  45400.000000  "
      ]
     },
     "execution_count": 53,
     "metadata": {},
     "output_type": "execute_result"
    }
   ],
   "source": [
    "df.describe()"
   ]
  },
  {
   "cell_type": "markdown",
   "id": "b2bb0f41",
   "metadata": {},
   "source": [
    "### Libraries imported for Proper Visualization"
   ]
  },
  {
   "cell_type": "code",
   "execution_count": 54,
   "id": "ec1f6acb",
   "metadata": {},
   "outputs": [],
   "source": [
    "import matplotlib.pyplot as plt\n",
    "import seaborn as sns"
   ]
  },
  {
   "cell_type": "code",
   "execution_count": 55,
   "id": "c605d644",
   "metadata": {},
   "outputs": [
    {
     "data": {
      "text/html": [
       "<div>\n",
       "<style scoped>\n",
       "    .dataframe tbody tr th:only-of-type {\n",
       "        vertical-align: middle;\n",
       "    }\n",
       "\n",
       "    .dataframe tbody tr th {\n",
       "        vertical-align: top;\n",
       "    }\n",
       "\n",
       "    .dataframe thead th {\n",
       "        text-align: right;\n",
       "    }\n",
       "</style>\n",
       "<table border=\"1\" class=\"dataframe\">\n",
       "  <thead>\n",
       "    <tr style=\"text-align: right;\">\n",
       "      <th></th>\n",
       "      <th>risk factor</th>\n",
       "      <th>losses</th>\n",
       "      <th>wheel base</th>\n",
       "      <th>length</th>\n",
       "      <th>width</th>\n",
       "      <th>height</th>\n",
       "      <th>weight of curb</th>\n",
       "      <th>size of engine</th>\n",
       "      <th>bore</th>\n",
       "      <th>stroke</th>\n",
       "      <th>ratio of comprehenssion</th>\n",
       "      <th>horsepower</th>\n",
       "      <th>peak-rpm</th>\n",
       "      <th>mpg in city</th>\n",
       "      <th>mpg on highway</th>\n",
       "      <th>total price</th>\n",
       "    </tr>\n",
       "  </thead>\n",
       "  <tbody>\n",
       "    <tr>\n",
       "      <th>count</th>\n",
       "      <td>203.000000</td>\n",
       "      <td>203.000000</td>\n",
       "      <td>203.000000</td>\n",
       "      <td>203.000000</td>\n",
       "      <td>203.000000</td>\n",
       "      <td>203.000000</td>\n",
       "      <td>203.000000</td>\n",
       "      <td>203.000000</td>\n",
       "      <td>203.000000</td>\n",
       "      <td>203.000000</td>\n",
       "      <td>203.000000</td>\n",
       "      <td>203.000000</td>\n",
       "      <td>203.000000</td>\n",
       "      <td>203.000000</td>\n",
       "      <td>203.000000</td>\n",
       "      <td>203.000000</td>\n",
       "    </tr>\n",
       "    <tr>\n",
       "      <th>mean</th>\n",
       "      <td>0.832512</td>\n",
       "      <td>122.000000</td>\n",
       "      <td>98.782759</td>\n",
       "      <td>173.999015</td>\n",
       "      <td>65.901478</td>\n",
       "      <td>53.733498</td>\n",
       "      <td>2555.921182</td>\n",
       "      <td>126.857143</td>\n",
       "      <td>3.328473</td>\n",
       "      <td>3.249163</td>\n",
       "      <td>10.156749</td>\n",
       "      <td>104.256158</td>\n",
       "      <td>5125.369458</td>\n",
       "      <td>25.241379</td>\n",
       "      <td>30.748768</td>\n",
       "      <td>13242.716847</td>\n",
       "    </tr>\n",
       "    <tr>\n",
       "      <th>std</th>\n",
       "      <td>1.247384</td>\n",
       "      <td>31.837458</td>\n",
       "      <td>6.045680</td>\n",
       "      <td>12.385511</td>\n",
       "      <td>2.154835</td>\n",
       "      <td>2.442864</td>\n",
       "      <td>523.205555</td>\n",
       "      <td>41.845239</td>\n",
       "      <td>0.271869</td>\n",
       "      <td>0.308487</td>\n",
       "      <td>3.989048</td>\n",
       "      <td>39.714369</td>\n",
       "      <td>479.334560</td>\n",
       "      <td>6.570702</td>\n",
       "      <td>6.920406</td>\n",
       "      <td>7899.317128</td>\n",
       "    </tr>\n",
       "    <tr>\n",
       "      <th>min</th>\n",
       "      <td>-2.000000</td>\n",
       "      <td>65.000000</td>\n",
       "      <td>86.600000</td>\n",
       "      <td>141.100000</td>\n",
       "      <td>60.300000</td>\n",
       "      <td>47.800000</td>\n",
       "      <td>1488.000000</td>\n",
       "      <td>61.000000</td>\n",
       "      <td>2.540000</td>\n",
       "      <td>2.070000</td>\n",
       "      <td>7.000000</td>\n",
       "      <td>48.000000</td>\n",
       "      <td>4150.000000</td>\n",
       "      <td>13.000000</td>\n",
       "      <td>16.000000</td>\n",
       "      <td>5118.000000</td>\n",
       "    </tr>\n",
       "    <tr>\n",
       "      <th>25%</th>\n",
       "      <td>0.000000</td>\n",
       "      <td>101.000000</td>\n",
       "      <td>94.500000</td>\n",
       "      <td>166.300000</td>\n",
       "      <td>64.050000</td>\n",
       "      <td>52.000000</td>\n",
       "      <td>2145.000000</td>\n",
       "      <td>97.000000</td>\n",
       "      <td>3.150000</td>\n",
       "      <td>3.110000</td>\n",
       "      <td>8.550000</td>\n",
       "      <td>70.000000</td>\n",
       "      <td>4800.000000</td>\n",
       "      <td>19.000000</td>\n",
       "      <td>25.000000</td>\n",
       "      <td>7781.500000</td>\n",
       "    </tr>\n",
       "    <tr>\n",
       "      <th>50%</th>\n",
       "      <td>1.000000</td>\n",
       "      <td>122.000000</td>\n",
       "      <td>97.000000</td>\n",
       "      <td>173.200000</td>\n",
       "      <td>65.500000</td>\n",
       "      <td>54.100000</td>\n",
       "      <td>2414.000000</td>\n",
       "      <td>119.000000</td>\n",
       "      <td>3.310000</td>\n",
       "      <td>3.290000</td>\n",
       "      <td>9.000000</td>\n",
       "      <td>95.000000</td>\n",
       "      <td>5200.000000</td>\n",
       "      <td>24.000000</td>\n",
       "      <td>30.000000</td>\n",
       "      <td>10698.000000</td>\n",
       "    </tr>\n",
       "    <tr>\n",
       "      <th>75%</th>\n",
       "      <td>2.000000</td>\n",
       "      <td>137.000000</td>\n",
       "      <td>102.400000</td>\n",
       "      <td>183.300000</td>\n",
       "      <td>66.900000</td>\n",
       "      <td>55.500000</td>\n",
       "      <td>2943.500000</td>\n",
       "      <td>143.000000</td>\n",
       "      <td>3.585000</td>\n",
       "      <td>3.405000</td>\n",
       "      <td>9.400000</td>\n",
       "      <td>116.000000</td>\n",
       "      <td>5500.000000</td>\n",
       "      <td>30.000000</td>\n",
       "      <td>35.000000</td>\n",
       "      <td>16500.000000</td>\n",
       "    </tr>\n",
       "    <tr>\n",
       "      <th>max</th>\n",
       "      <td>3.000000</td>\n",
       "      <td>256.000000</td>\n",
       "      <td>120.900000</td>\n",
       "      <td>208.100000</td>\n",
       "      <td>72.300000</td>\n",
       "      <td>59.800000</td>\n",
       "      <td>4066.000000</td>\n",
       "      <td>326.000000</td>\n",
       "      <td>3.940000</td>\n",
       "      <td>4.170000</td>\n",
       "      <td>23.000000</td>\n",
       "      <td>288.000000</td>\n",
       "      <td>6600.000000</td>\n",
       "      <td>49.000000</td>\n",
       "      <td>54.000000</td>\n",
       "      <td>45400.000000</td>\n",
       "    </tr>\n",
       "  </tbody>\n",
       "</table>\n",
       "</div>"
      ],
      "text/plain": [
       "       risk factor      losses  wheel base      length       width  \\\n",
       "count   203.000000  203.000000  203.000000  203.000000  203.000000   \n",
       "mean      0.832512  122.000000   98.782759  173.999015   65.901478   \n",
       "std       1.247384   31.837458    6.045680   12.385511    2.154835   \n",
       "min      -2.000000   65.000000   86.600000  141.100000   60.300000   \n",
       "25%       0.000000  101.000000   94.500000  166.300000   64.050000   \n",
       "50%       1.000000  122.000000   97.000000  173.200000   65.500000   \n",
       "75%       2.000000  137.000000  102.400000  183.300000   66.900000   \n",
       "max       3.000000  256.000000  120.900000  208.100000   72.300000   \n",
       "\n",
       "           height  weight of curb  size of engine        bore      stroke  \\\n",
       "count  203.000000      203.000000      203.000000  203.000000  203.000000   \n",
       "mean    53.733498     2555.921182      126.857143    3.328473    3.249163   \n",
       "std      2.442864      523.205555       41.845239    0.271869    0.308487   \n",
       "min     47.800000     1488.000000       61.000000    2.540000    2.070000   \n",
       "25%     52.000000     2145.000000       97.000000    3.150000    3.110000   \n",
       "50%     54.100000     2414.000000      119.000000    3.310000    3.290000   \n",
       "75%     55.500000     2943.500000      143.000000    3.585000    3.405000   \n",
       "max     59.800000     4066.000000      326.000000    3.940000    4.170000   \n",
       "\n",
       "       ratio of comprehenssion  horsepower     peak-rpm  mpg in city  \\\n",
       "count               203.000000  203.000000   203.000000   203.000000   \n",
       "mean                 10.156749  104.256158  5125.369458    25.241379   \n",
       "std                   3.989048   39.714369   479.334560     6.570702   \n",
       "min                   7.000000   48.000000  4150.000000    13.000000   \n",
       "25%                   8.550000   70.000000  4800.000000    19.000000   \n",
       "50%                   9.000000   95.000000  5200.000000    24.000000   \n",
       "75%                   9.400000  116.000000  5500.000000    30.000000   \n",
       "max                  23.000000  288.000000  6600.000000    49.000000   \n",
       "\n",
       "       mpg on highway   total price  \n",
       "count      203.000000    203.000000  \n",
       "mean        30.748768  13242.716847  \n",
       "std          6.920406   7899.317128  \n",
       "min         16.000000   5118.000000  \n",
       "25%         25.000000   7781.500000  \n",
       "50%         30.000000  10698.000000  \n",
       "75%         35.000000  16500.000000  \n",
       "max         54.000000  45400.000000  "
      ]
     },
     "execution_count": 55,
     "metadata": {},
     "output_type": "execute_result"
    }
   ],
   "source": [
    "df.describe()"
   ]
  },
  {
   "cell_type": "markdown",
   "id": "7bc8a897",
   "metadata": {},
   "source": [
    "### Histogram distribution of losses"
   ]
  },
  {
   "cell_type": "code",
   "execution_count": 56,
   "id": "92454546",
   "metadata": {},
   "outputs": [
    {
     "data": {
      "text/plain": [
       "<AxesSubplot:>"
      ]
     },
     "execution_count": 56,
     "metadata": {},
     "output_type": "execute_result"
    },
    {
     "data": {
      "image/png": "[encoded data removed]",
      "text/plain": [
       "<Figure size 640x480 with 1 Axes>"
      ]
     },
     "metadata": {},
     "output_type": "display_data"
    }
   ],
   "source": [
    "df.losses.hist()"
   ]
  },
  {
   "cell_type": "markdown",
   "id": "101e0006",
   "metadata": {},
   "source": [
    "### Outlier detection and removal"
   ]
  },
  {
   "cell_type": "code",
   "execution_count": 57,
   "id": "4b89200a",
   "metadata": {},
   "outputs": [
    {
     "data": {
      "text/plain": [
       "217.5123754357839"
      ]
     },
     "execution_count": 57,
     "metadata": {},
     "output_type": "execute_result"
    }
   ],
   "source": [
    "upper_limit = df.losses.mean() + 3*df.losses.std()\n",
    "upper_limit"
   ]
  },
  {
   "cell_type": "code",
   "execution_count": 58,
   "id": "aed465b2",
   "metadata": {},
   "outputs": [
    {
     "data": {
      "text/html": [
       "<div>\n",
       "<style scoped>\n",
       "    .dataframe tbody tr th:only-of-type {\n",
       "        vertical-align: middle;\n",
       "    }\n",
       "\n",
       "    .dataframe tbody tr th {\n",
       "        vertical-align: top;\n",
       "    }\n",
       "\n",
       "    .dataframe thead th {\n",
       "        text-align: right;\n",
       "    }\n",
       "</style>\n",
       "<table border=\"1\" class=\"dataframe\">\n",
       "  <thead>\n",
       "    <tr style=\"text-align: right;\">\n",
       "      <th></th>\n",
       "      <th>risk factor</th>\n",
       "      <th>losses</th>\n",
       "      <th>make</th>\n",
       "      <th>type of fuel</th>\n",
       "      <th>aspiration</th>\n",
       "      <th>total doors</th>\n",
       "      <th>body</th>\n",
       "      <th>wheels</th>\n",
       "      <th>location of engine</th>\n",
       "      <th>wheel base</th>\n",
       "      <th>...</th>\n",
       "      <th>size of engine</th>\n",
       "      <th>system of fuel</th>\n",
       "      <th>bore</th>\n",
       "      <th>stroke</th>\n",
       "      <th>ratio of comprehenssion</th>\n",
       "      <th>horsepower</th>\n",
       "      <th>peak-rpm</th>\n",
       "      <th>mpg in city</th>\n",
       "      <th>mpg on highway</th>\n",
       "      <th>total price</th>\n",
       "    </tr>\n",
       "  </thead>\n",
       "  <tbody>\n",
       "    <tr>\n",
       "      <th>106</th>\n",
       "      <td>1</td>\n",
       "      <td>231.0</td>\n",
       "      <td>nissan</td>\n",
       "      <td>gas</td>\n",
       "      <td>std</td>\n",
       "      <td>two</td>\n",
       "      <td>hatchback</td>\n",
       "      <td>rwd</td>\n",
       "      <td>front</td>\n",
       "      <td>99.2</td>\n",
       "      <td>...</td>\n",
       "      <td>181</td>\n",
       "      <td>mpfi</td>\n",
       "      <td>3.43</td>\n",
       "      <td>3.27</td>\n",
       "      <td>9.0</td>\n",
       "      <td>160.0</td>\n",
       "      <td>5200.0</td>\n",
       "      <td>19</td>\n",
       "      <td>25</td>\n",
       "      <td>18399.0</td>\n",
       "    </tr>\n",
       "    <tr>\n",
       "      <th>190</th>\n",
       "      <td>3</td>\n",
       "      <td>256.0</td>\n",
       "      <td>volkswagen</td>\n",
       "      <td>gas</td>\n",
       "      <td>std</td>\n",
       "      <td>two</td>\n",
       "      <td>hatchback</td>\n",
       "      <td>fwd</td>\n",
       "      <td>front</td>\n",
       "      <td>94.5</td>\n",
       "      <td>...</td>\n",
       "      <td>109</td>\n",
       "      <td>mpfi</td>\n",
       "      <td>3.19</td>\n",
       "      <td>3.40</td>\n",
       "      <td>8.5</td>\n",
       "      <td>90.0</td>\n",
       "      <td>5500.0</td>\n",
       "      <td>24</td>\n",
       "      <td>29</td>\n",
       "      <td>9980.0</td>\n",
       "    </tr>\n",
       "  </tbody>\n",
       "</table>\n",
       "<p>2 rows × 26 columns</p>\n",
       "</div>"
      ],
      "text/plain": [
       "     risk factor  losses        make type of fuel aspiration total doors  \\\n",
       "106            1   231.0      nissan          gas        std         two   \n",
       "190            3   256.0  volkswagen          gas        std         two   \n",
       "\n",
       "          body wheels location of engine  wheel base  ...  size of engine  \\\n",
       "106  hatchback    rwd              front        99.2  ...             181   \n",
       "190  hatchback    fwd              front        94.5  ...             109   \n",
       "\n",
       "     system of fuel  bore  stroke ratio of comprehenssion horsepower  \\\n",
       "106            mpfi  3.43    3.27                     9.0      160.0   \n",
       "190            mpfi  3.19    3.40                     8.5       90.0   \n",
       "\n",
       "     peak-rpm mpg in city  mpg on highway  total price  \n",
       "106    5200.0          19              25      18399.0  \n",
       "190    5500.0          24              29       9980.0  \n",
       "\n",
       "[2 rows x 26 columns]"
      ]
     },
     "execution_count": 58,
     "metadata": {},
     "output_type": "execute_result"
    }
   ],
   "source": [
    "df[df[\"losses\"]>upper_limit]"
   ]
  },
  {
   "cell_type": "code",
   "execution_count": 59,
   "id": "7f2ad5b3",
   "metadata": {},
   "outputs": [],
   "source": [
    "df.drop(index=106,inplace=True)"
   ]
  },
  {
   "cell_type": "code",
   "execution_count": 60,
   "id": "2c0723bd",
   "metadata": {},
   "outputs": [],
   "source": [
    "df.drop(index=190,inplace=True)"
   ]
  },
  {
   "cell_type": "code",
   "execution_count": 61,
   "id": "fb813d74",
   "metadata": {},
   "outputs": [],
   "source": [
    "df.columns=[each.replace(\" \",\"_\") for each in df.columns]"
   ]
  },
  {
   "cell_type": "code",
   "execution_count": 62,
   "id": "9aac5baf",
   "metadata": {},
   "outputs": [],
   "source": [
    "df.columns=[each.replace(\"-\",\"_\") for each in df.columns]"
   ]
  },
  {
   "cell_type": "code",
   "execution_count": 63,
   "id": "a6fdc362",
   "metadata": {},
   "outputs": [
    {
     "data": {
      "text/plain": [
       "(201, 26)"
      ]
     },
     "execution_count": 63,
     "metadata": {},
     "output_type": "execute_result"
    }
   ],
   "source": [
    "df.shape"
   ]
  },
  {
   "cell_type": "markdown",
   "id": "2935a520",
   "metadata": {},
   "source": [
    "### Risk factor- it shows the no. of samples are more having high risk as 1,2 and 3 compared to 0,-1 & -2 "
   ]
  },
  {
   "cell_type": "code",
   "execution_count": 64,
   "id": "4c083c41",
   "metadata": {
    "scrolled": false
   },
   "outputs": [
    {
     "data": {
      "text/plain": [
       "<AxesSubplot:>"
      ]
     },
     "execution_count": 64,
     "metadata": {},
     "output_type": "execute_result"
    },
    {
     "data": {
      "image/png": "[encoded data removed]",
      "text/plain": [
       "<Figure size 640x480 with 1 Axes>"
      ]
     },
     "metadata": {},
     "output_type": "display_data"
    }
   ],
   "source": [
    "df.risk_factor.value_counts().plot(kind=\"bar\")"
   ]
  },
  {
   "cell_type": "markdown",
   "id": "08b4ab8c",
   "metadata": {},
   "source": [
    "### For Top 4 car makers"
   ]
  },
  {
   "cell_type": "code",
   "execution_count": 65,
   "id": "e18523b8",
   "metadata": {
    "scrolled": true
   },
   "outputs": [
    {
     "data": {
      "text/plain": [
       "toyota        32\n",
       "mazda         17\n",
       "nissan        17\n",
       "mitsubishi    13\n",
       "Name: make, dtype: int64"
      ]
     },
     "execution_count": 65,
     "metadata": {},
     "output_type": "execute_result"
    }
   ],
   "source": [
    "df.make.value_counts().nlargest(4)"
   ]
  },
  {
   "cell_type": "markdown",
   "id": "08c73f72",
   "metadata": {},
   "source": [
    "### Pie chart distribution of asked output i.e. most used fuel "
   ]
  },
  {
   "cell_type": "code",
   "execution_count": 68,
   "id": "ae2f1d30",
   "metadata": {},
   "outputs": [
    {
     "data": {
      "image/png": "[encoded data removed]",
      "text/plain": [
       "<Figure size 640x480 with 1 Axes>"
      ]
     },
     "metadata": {},
     "output_type": "display_data"
    }
   ],
   "source": [
    "y=np.array(df.type_of_fuel.value_counts().values)\n",
    "x=df.type_of_fuel.value_counts().index\n",
    "plt.pie(y,labels=x,autopct=\"%1.1f%%\")\n",
    "plt.show()"
   ]
  },
  {
   "cell_type": "markdown",
   "id": "c1398f7f",
   "metadata": {},
   "source": [
    "### Maker having highest use of diesel"
   ]
  },
  {
   "cell_type": "code",
   "execution_count": 69,
   "id": "760f52a5",
   "metadata": {
    "scrolled": true
   },
   "outputs": [
    {
     "data": {
      "text/plain": [
       "peugot    5\n",
       "Name: make, dtype: int64"
      ]
     },
     "execution_count": 69,
     "metadata": {},
     "output_type": "execute_result"
    }
   ],
   "source": [
    "df.make[df.type_of_fuel==\"diesel\"].value_counts().head(1)"
   ]
  },
  {
   "cell_type": "markdown",
   "id": "dcf0a299",
   "metadata": {},
   "source": [
    "### Highest installed aspiration count"
   ]
  },
  {
   "cell_type": "code",
   "execution_count": 70,
   "id": "40a7cbbe",
   "metadata": {},
   "outputs": [
    {
     "data": {
      "text/plain": [
       "std    164\n",
       "Name: aspiration, dtype: int64"
      ]
     },
     "execution_count": 70,
     "metadata": {},
     "output_type": "execute_result"
    }
   ],
   "source": [
    "df.aspiration.value_counts().head(1)"
   ]
  },
  {
   "cell_type": "markdown",
   "id": "1ec6f00c",
   "metadata": {},
   "source": [
    "### Named 2 makes having highest utilization of turbo"
   ]
  },
  {
   "cell_type": "code",
   "execution_count": 71,
   "id": "5f9a6020",
   "metadata": {},
   "outputs": [
    {
     "data": {
      "text/plain": [
       "mitsubishi    6\n",
       "peugot        6\n",
       "Name: make, dtype: int64"
      ]
     },
     "execution_count": 71,
     "metadata": {},
     "output_type": "execute_result"
    }
   ],
   "source": [
    "df.make[df.aspiration==\"turbo\"].value_counts().head(2)"
   ]
  },
  {
   "cell_type": "markdown",
   "id": "391fb10f",
   "metadata": {},
   "source": [
    "### Higher losses in std and tubro histogram comparison"
   ]
  },
  {
   "cell_type": "code",
   "execution_count": 73,
   "id": "0c4356be",
   "metadata": {
    "scrolled": true
   },
   "outputs": [
    {
     "data": {
      "image/png": "[encoded data removed]",
      "text/plain": [
       "<Figure size 640x480 with 1 Axes>"
      ]
     },
     "metadata": {},
     "output_type": "display_data"
    }
   ],
   "source": [
    "#ax = plt.subplots(figsize =(10, 7))\n",
    "plt.hist(df.aspiration.value_counts().index)\n",
    "y=np.array(df[\"losses\"].value_counts().index)\n",
    "plt.legend(y)\n",
    "plt.show()"
   ]
  },
  {
   "cell_type": "markdown",
   "id": "a3fdeb3d",
   "metadata": {},
   "source": [
    "### Car makers who doesn't have 2 doors"
   ]
  },
  {
   "cell_type": "code",
   "execution_count": 74,
   "id": "61896800",
   "metadata": {
    "scrolled": true
   },
   "outputs": [
    {
     "data": {
      "text/plain": [
       "toyota           18\n",
       "volvo            11\n",
       "peugot           11\n",
       "subaru            9\n",
       "nissan            9\n",
       "volkswagen        8\n",
       "mazda             8\n",
       "bmw               5\n",
       "audi              5\n",
       "mercedes-benz     5\n",
       "honda             5\n",
       "dodge             5\n",
       "plymouth          4\n",
       "mitsubishi        4\n",
       "saab              3\n",
       "jaguar            2\n",
       "isuzu             2\n",
       "chevrolet         1\n",
       "Name: make, dtype: int64"
      ]
     },
     "execution_count": 74,
     "metadata": {},
     "output_type": "execute_result"
    }
   ],
   "source": [
    "df.make[df.total_doors==\"four\"].value_counts()"
   ]
  },
  {
   "cell_type": "markdown",
   "id": "77ef4296",
   "metadata": {},
   "source": [
    "### Car makers who doesn't have 4 doors"
   ]
  },
  {
   "cell_type": "code",
   "execution_count": 75,
   "id": "0a9b0e22",
   "metadata": {
    "scrolled": false
   },
   "outputs": [
    {
     "data": {
      "text/plain": [
       "toyota           14\n",
       "mitsubishi        9\n",
       "mazda             9\n",
       "honda             8\n",
       "nissan            8\n",
       "porsche           5\n",
       "dodge             4\n",
       "alfa-romero       3\n",
       "subaru            3\n",
       "saab              3\n",
       "plymouth          3\n",
       "mercedes-benz     3\n",
       "bmw               3\n",
       "volkswagen        3\n",
       "audi              2\n",
       "isuzu             2\n",
       "chevrolet         2\n",
       "mercury           1\n",
       "jaguar            1\n",
       "Name: make, dtype: int64"
      ]
     },
     "execution_count": 75,
     "metadata": {},
     "output_type": "execute_result"
    }
   ],
   "source": [
    "df.make[df.total_doors==\"two\"].value_counts()"
   ]
  },
  {
   "cell_type": "markdown",
   "id": "b143e08f",
   "metadata": {},
   "source": [
    "### No of Doors and Losses"
   ]
  },
  {
   "cell_type": "code",
   "execution_count": 178,
   "id": "59aff346",
   "metadata": {},
   "outputs": [
    {
     "data": {
      "image/png": "[encoded data removed]",
      "text/plain": [
       "<Figure size 640x480 with 1 Axes>"
      ]
     },
     "metadata": {},
     "output_type": "display_data"
    }
   ],
   "source": [
    "grouped = df.groupby('total_doors')['risk_factor'].sum()\n",
    "grouped\n",
    "x=grouped.index\n",
    "y=grouped.values\n",
    "plt.bar(x,y)\n",
    "plt.show()"
   ]
  },
  {
   "cell_type": "markdown",
   "id": "5dd987a4",
   "metadata": {},
   "source": [
    "### Most frequently occuring cars by its Body type"
   ]
  },
  {
   "cell_type": "code",
   "execution_count": 81,
   "id": "30ee95cd",
   "metadata": {},
   "outputs": [
    {
     "data": {
      "text/plain": [
       "array(['convertible', 'hatchback', 'sedan', 'wagon', 'hardtop'],\n",
       "      dtype=object)"
      ]
     },
     "execution_count": 81,
     "metadata": {},
     "output_type": "execute_result"
    }
   ],
   "source": [
    "df.body.unique()"
   ]
  },
  {
   "cell_type": "code",
   "execution_count": 82,
   "id": "151d8585",
   "metadata": {
    "scrolled": true
   },
   "outputs": [
    {
     "data": {
      "text/html": [
       "<div>\n",
       "<style scoped>\n",
       "    .dataframe tbody tr th:only-of-type {\n",
       "        vertical-align: middle;\n",
       "    }\n",
       "\n",
       "    .dataframe tbody tr th {\n",
       "        vertical-align: top;\n",
       "    }\n",
       "\n",
       "    .dataframe thead th {\n",
       "        text-align: right;\n",
       "    }\n",
       "</style>\n",
       "<table border=\"1\" class=\"dataframe\">\n",
       "  <thead>\n",
       "    <tr style=\"text-align: right;\">\n",
       "      <th></th>\n",
       "      <th>risk_factor</th>\n",
       "      <th>losses</th>\n",
       "      <th>make</th>\n",
       "      <th>type_of_fuel</th>\n",
       "      <th>aspiration</th>\n",
       "      <th>total_doors</th>\n",
       "      <th>body</th>\n",
       "      <th>wheels</th>\n",
       "      <th>location_of_engine</th>\n",
       "      <th>wheel_base</th>\n",
       "      <th>...</th>\n",
       "      <th>size_of_engine</th>\n",
       "      <th>system_of_fuel</th>\n",
       "      <th>bore</th>\n",
       "      <th>stroke</th>\n",
       "      <th>ratio_of_comprehenssion</th>\n",
       "      <th>horsepower</th>\n",
       "      <th>peak_rpm</th>\n",
       "      <th>mpg_in_city</th>\n",
       "      <th>mpg_on_highway</th>\n",
       "      <th>total_price</th>\n",
       "    </tr>\n",
       "  </thead>\n",
       "  <tbody>\n",
       "    <tr>\n",
       "      <th>0</th>\n",
       "      <td>3</td>\n",
       "      <td>122.0</td>\n",
       "      <td>alfa-romero</td>\n",
       "      <td>gas</td>\n",
       "      <td>std</td>\n",
       "      <td>two</td>\n",
       "      <td>convertible</td>\n",
       "      <td>rwd</td>\n",
       "      <td>front</td>\n",
       "      <td>88.6</td>\n",
       "      <td>...</td>\n",
       "      <td>130</td>\n",
       "      <td>mpfi</td>\n",
       "      <td>3.47</td>\n",
       "      <td>2.68</td>\n",
       "      <td>9.0</td>\n",
       "      <td>111.0</td>\n",
       "      <td>5000.0</td>\n",
       "      <td>21</td>\n",
       "      <td>27</td>\n",
       "      <td>13495.0</td>\n",
       "    </tr>\n",
       "    <tr>\n",
       "      <th>2</th>\n",
       "      <td>1</td>\n",
       "      <td>122.0</td>\n",
       "      <td>alfa-romero</td>\n",
       "      <td>gas</td>\n",
       "      <td>std</td>\n",
       "      <td>two</td>\n",
       "      <td>hatchback</td>\n",
       "      <td>rwd</td>\n",
       "      <td>front</td>\n",
       "      <td>94.5</td>\n",
       "      <td>...</td>\n",
       "      <td>152</td>\n",
       "      <td>mpfi</td>\n",
       "      <td>2.68</td>\n",
       "      <td>3.47</td>\n",
       "      <td>9.0</td>\n",
       "      <td>154.0</td>\n",
       "      <td>5000.0</td>\n",
       "      <td>19</td>\n",
       "      <td>26</td>\n",
       "      <td>16500.0</td>\n",
       "    </tr>\n",
       "    <tr>\n",
       "      <th>3</th>\n",
       "      <td>2</td>\n",
       "      <td>164.0</td>\n",
       "      <td>audi</td>\n",
       "      <td>gas</td>\n",
       "      <td>std</td>\n",
       "      <td>four</td>\n",
       "      <td>sedan</td>\n",
       "      <td>fwd</td>\n",
       "      <td>front</td>\n",
       "      <td>99.8</td>\n",
       "      <td>...</td>\n",
       "      <td>109</td>\n",
       "      <td>mpfi</td>\n",
       "      <td>3.19</td>\n",
       "      <td>3.40</td>\n",
       "      <td>10.0</td>\n",
       "      <td>102.0</td>\n",
       "      <td>5500.0</td>\n",
       "      <td>24</td>\n",
       "      <td>30</td>\n",
       "      <td>13950.0</td>\n",
       "    </tr>\n",
       "    <tr>\n",
       "      <th>7</th>\n",
       "      <td>1</td>\n",
       "      <td>122.0</td>\n",
       "      <td>audi</td>\n",
       "      <td>gas</td>\n",
       "      <td>std</td>\n",
       "      <td>four</td>\n",
       "      <td>wagon</td>\n",
       "      <td>fwd</td>\n",
       "      <td>front</td>\n",
       "      <td>105.8</td>\n",
       "      <td>...</td>\n",
       "      <td>136</td>\n",
       "      <td>mpfi</td>\n",
       "      <td>3.19</td>\n",
       "      <td>3.40</td>\n",
       "      <td>8.5</td>\n",
       "      <td>110.0</td>\n",
       "      <td>5500.0</td>\n",
       "      <td>19</td>\n",
       "      <td>25</td>\n",
       "      <td>18920.0</td>\n",
       "    </tr>\n",
       "    <tr>\n",
       "      <th>69</th>\n",
       "      <td>0</td>\n",
       "      <td>93.0</td>\n",
       "      <td>mercedes-benz</td>\n",
       "      <td>diesel</td>\n",
       "      <td>turbo</td>\n",
       "      <td>two</td>\n",
       "      <td>hardtop</td>\n",
       "      <td>rwd</td>\n",
       "      <td>front</td>\n",
       "      <td>106.7</td>\n",
       "      <td>...</td>\n",
       "      <td>183</td>\n",
       "      <td>idi</td>\n",
       "      <td>3.58</td>\n",
       "      <td>3.64</td>\n",
       "      <td>21.5</td>\n",
       "      <td>123.0</td>\n",
       "      <td>4350.0</td>\n",
       "      <td>22</td>\n",
       "      <td>25</td>\n",
       "      <td>28176.0</td>\n",
       "    </tr>\n",
       "  </tbody>\n",
       "</table>\n",
       "<p>5 rows × 26 columns</p>\n",
       "</div>"
      ],
      "text/plain": [
       "    risk_factor  losses           make type_of_fuel aspiration total_doors  \\\n",
       "0             3   122.0    alfa-romero          gas        std         two   \n",
       "2             1   122.0    alfa-romero          gas        std         two   \n",
       "3             2   164.0           audi          gas        std        four   \n",
       "7             1   122.0           audi          gas        std        four   \n",
       "69            0    93.0  mercedes-benz       diesel      turbo         two   \n",
       "\n",
       "           body wheels location_of_engine  wheel_base  ...  size_of_engine  \\\n",
       "0   convertible    rwd              front        88.6  ...             130   \n",
       "2     hatchback    rwd              front        94.5  ...             152   \n",
       "3         sedan    fwd              front        99.8  ...             109   \n",
       "7         wagon    fwd              front       105.8  ...             136   \n",
       "69      hardtop    rwd              front       106.7  ...             183   \n",
       "\n",
       "    system_of_fuel  bore  stroke ratio_of_comprehenssion horsepower  peak_rpm  \\\n",
       "0             mpfi  3.47    2.68                     9.0      111.0    5000.0   \n",
       "2             mpfi  2.68    3.47                     9.0      154.0    5000.0   \n",
       "3             mpfi  3.19    3.40                    10.0      102.0    5500.0   \n",
       "7             mpfi  3.19    3.40                     8.5      110.0    5500.0   \n",
       "69             idi  3.58    3.64                    21.5      123.0    4350.0   \n",
       "\n",
       "   mpg_in_city  mpg_on_highway  total_price  \n",
       "0           21              27      13495.0  \n",
       "2           19              26      16500.0  \n",
       "3           24              30      13950.0  \n",
       "7           19              25      18920.0  \n",
       "69          22              25      28176.0  \n",
       "\n",
       "[5 rows x 26 columns]"
      ]
     },
     "execution_count": 82,
     "metadata": {},
     "output_type": "execute_result"
    }
   ],
   "source": [
    "grouped = df.groupby(\"body\")\n",
    "grouped.head(1)"
   ]
  },
  {
   "cell_type": "code",
   "execution_count": 83,
   "id": "434187fa",
   "metadata": {},
   "outputs": [
    {
     "data": {
      "text/plain": [
       "sedan        96\n",
       "hatchback    67\n",
       "Name: body, dtype: int64"
      ]
     },
     "execution_count": 83,
     "metadata": {},
     "output_type": "execute_result"
    }
   ],
   "source": [
    "df.body.value_counts().head(2)"
   ]
  },
  {
   "cell_type": "markdown",
   "id": "c90efd70",
   "metadata": {},
   "source": [
    "### Size of engine and total cylinders relationships "
   ]
  },
  {
   "cell_type": "code",
   "execution_count": 84,
   "id": "0cc0f775",
   "metadata": {
    "scrolled": true
   },
   "outputs": [
    {
     "name": "stdout",
     "output_type": "stream",
     "text": [
      "shows Linear Relationship-->as the no.of cylinders increase the size of engine increase\n"
     ]
    },
    {
     "data": {
      "image/png": "[encoded data removed]",
      "text/plain": [
       "<Figure size 640x480 with 1 Axes>"
      ]
     },
     "metadata": {},
     "output_type": "display_data"
    }
   ],
   "source": [
    "print(\"shows Linear Relationship-->as the no.of cylinders increase the size of engine increase\")\n",
    "plt.scatter(df.total_cylinders,df.size_of_engine)\n",
    "plt.show()"
   ]
  },
  {
   "cell_type": "code",
   "execution_count": 85,
   "id": "c53062b3",
   "metadata": {
    "scrolled": true
   },
   "outputs": [
    {
     "data": {
      "text/plain": [
       "Index(['risk_factor', 'losses', 'make', 'type_of_fuel', 'aspiration',\n",
       "       'total_doors', 'body', 'wheels', 'location_of_engine', 'wheel_base',\n",
       "       'length', 'width', 'height', 'weight_of_curb', 'type_of_engine',\n",
       "       'total_cylinders', 'size_of_engine', 'system_of_fuel', 'bore', 'stroke',\n",
       "       'ratio_of_comprehenssion', 'horsepower', 'peak_rpm', 'mpg_in_city',\n",
       "       'mpg_on_highway', 'total_price'],\n",
       "      dtype='object')"
      ]
     },
     "execution_count": 85,
     "metadata": {},
     "output_type": "execute_result"
    }
   ],
   "source": [
    "df.columns"
   ]
  },
  {
   "cell_type": "markdown",
   "id": "f5b094e5",
   "metadata": {},
   "source": [
    "### Fuel type having highest ratio of compression"
   ]
  },
  {
   "cell_type": "code",
   "execution_count": 86,
   "id": "86f7edc4",
   "metadata": {
    "scrolled": true
   },
   "outputs": [
    {
     "data": {
      "text/plain": [
       "type_of_fuel\n",
       "gas    1604.22\n",
       "Name: ratio_of_comprehenssion, dtype: float64"
      ]
     },
     "execution_count": 86,
     "metadata": {},
     "output_type": "execute_result"
    }
   ],
   "source": [
    "grouped = df.groupby('type_of_fuel')['ratio_of_comprehenssion'].sum()\n",
    "grouped.nlargest(1)"
   ]
  },
  {
   "cell_type": "markdown",
   "id": "ac336726",
   "metadata": {},
   "source": [
    "### Correlations of other features with Target variable i.e. total_price"
   ]
  },
  {
   "cell_type": "code",
   "execution_count": 87,
   "id": "6e1db605",
   "metadata": {
    "scrolled": true
   },
   "outputs": [],
   "source": [
    "df_corr=df.corr()"
   ]
  },
  {
   "cell_type": "code",
   "execution_count": 88,
   "id": "bef11b09",
   "metadata": {
    "scrolled": true
   },
   "outputs": [
    {
     "data": {
      "text/plain": [
       "total_price                1.000000\n",
       "size_of_engine             0.863476\n",
       "weight_of_curb             0.821151\n",
       "horsepower                 0.758516\n",
       "width                      0.730388\n",
       "length                     0.685818\n",
       "wheel_base                 0.582262\n",
       "bore                       0.534732\n",
       "losses                     0.142754\n",
       "height                     0.138823\n",
       "stroke                     0.094476\n",
       "ratio_of_comprehenssion    0.069698\n",
       "risk_factor               -0.079865\n",
       "peak_rpm                  -0.100177\n",
       "mpg_in_city               -0.669943\n",
       "mpg_on_highway            -0.691240\n",
       "Name: total_price, dtype: float64"
      ]
     },
     "execution_count": 88,
     "metadata": {},
     "output_type": "execute_result"
    }
   ],
   "source": [
    "df_corr.total_price.sort_values(ascending=False)"
   ]
  },
  {
   "cell_type": "markdown",
   "id": "454d1821",
   "metadata": {},
   "source": [
    "### Graphical representation of correlation heatmap"
   ]
  },
  {
   "cell_type": "code",
   "execution_count": 90,
   "id": "c469aa41",
   "metadata": {},
   "outputs": [
    {
     "data": {
      "text/plain": [
       "<AxesSubplot:>"
      ]
     },
     "execution_count": 90,
     "metadata": {},
     "output_type": "execute_result"
    },
    {
     "data": {
      "image/png": "[encoded data removed]",
      "text/plain": [
       "<Figure size 640x480 with 2 Axes>"
      ]
     },
     "metadata": {},
     "output_type": "display_data"
    }
   ],
   "source": [
    "sns.heatmap(df.corr())"
   ]
  },
  {
   "cell_type": "markdown",
   "id": "5eb1ff18",
   "metadata": {},
   "source": [
    "### splitting up the dependent variable and independent variable "
   ]
  },
  {
   "cell_type": "code",
   "execution_count": 91,
   "id": "2d6e40c7",
   "metadata": {},
   "outputs": [],
   "source": [
    "x=df.drop([\"total_price\",\"location_of_engine\"],axis=1)\n",
    "y=df[\"total_price\"]"
   ]
  },
  {
   "cell_type": "code",
   "execution_count": 92,
   "id": "0f957dd3",
   "metadata": {},
   "outputs": [
    {
     "data": {
      "text/plain": [
       "((201, 24), (201,))"
      ]
     },
     "execution_count": 92,
     "metadata": {},
     "output_type": "execute_result"
    }
   ],
   "source": [
    "x.shape,y.shape"
   ]
  },
  {
   "cell_type": "markdown",
   "id": "a2385e56",
   "metadata": {},
   "source": [
    "### Scaling data to address class imbalance-Feature engineering"
   ]
  },
  {
   "cell_type": "code",
   "execution_count": 93,
   "id": "97719726",
   "metadata": {},
   "outputs": [],
   "source": [
    "from sklearn.preprocessing import MinMaxScaler"
   ]
  },
  {
   "cell_type": "code",
   "execution_count": 94,
   "id": "4fe0ea98",
   "metadata": {},
   "outputs": [],
   "source": [
    "mmscaler= MinMaxScaler()"
   ]
  },
  {
   "cell_type": "code",
   "execution_count": 95,
   "id": "ebdff068",
   "metadata": {
    "scrolled": true
   },
   "outputs": [
    {
     "data": {
      "text/html": [
       "<div>\n",
       "<style scoped>\n",
       "    .dataframe tbody tr th:only-of-type {\n",
       "        vertical-align: middle;\n",
       "    }\n",
       "\n",
       "    .dataframe tbody tr th {\n",
       "        vertical-align: top;\n",
       "    }\n",
       "\n",
       "    .dataframe thead th {\n",
       "        text-align: right;\n",
       "    }\n",
       "</style>\n",
       "<table border=\"1\" class=\"dataframe\">\n",
       "  <thead>\n",
       "    <tr style=\"text-align: right;\">\n",
       "      <th></th>\n",
       "      <th>risk_factor</th>\n",
       "      <th>losses</th>\n",
       "      <th>wheel_base</th>\n",
       "      <th>length</th>\n",
       "      <th>width</th>\n",
       "      <th>height</th>\n",
       "      <th>weight_of_curb</th>\n",
       "      <th>size_of_engine</th>\n",
       "      <th>bore</th>\n",
       "      <th>stroke</th>\n",
       "      <th>ratio_of_comprehenssion</th>\n",
       "      <th>horsepower</th>\n",
       "      <th>peak_rpm</th>\n",
       "      <th>mpg_in_city</th>\n",
       "      <th>mpg_on_highway</th>\n",
       "    </tr>\n",
       "  </thead>\n",
       "  <tbody>\n",
       "    <tr>\n",
       "      <th>count</th>\n",
       "      <td>201.000000</td>\n",
       "      <td>201.000000</td>\n",
       "      <td>201.000000</td>\n",
       "      <td>201.000000</td>\n",
       "      <td>201.000000</td>\n",
       "      <td>201.000000</td>\n",
       "      <td>201.000000</td>\n",
       "      <td>201.000000</td>\n",
       "      <td>201.000000</td>\n",
       "      <td>201.000000</td>\n",
       "      <td>201.000000</td>\n",
       "      <td>201.000000</td>\n",
       "      <td>201.000000</td>\n",
       "      <td>201.000000</td>\n",
       "      <td>201.00000</td>\n",
       "    </tr>\n",
       "    <tr>\n",
       "      <th>mean</th>\n",
       "      <td>0.820896</td>\n",
       "      <td>120.791045</td>\n",
       "      <td>98.801990</td>\n",
       "      <td>174.017910</td>\n",
       "      <td>65.900995</td>\n",
       "      <td>53.765174</td>\n",
       "      <td>2554.686567</td>\n",
       "      <td>126.676617</td>\n",
       "      <td>3.328657</td>\n",
       "      <td>3.248308</td>\n",
       "      <td>10.170746</td>\n",
       "      <td>104.049751</td>\n",
       "      <td>5123.134328</td>\n",
       "      <td>25.278607</td>\n",
       "      <td>30.78607</td>\n",
       "    </tr>\n",
       "    <tr>\n",
       "      <th>std</th>\n",
       "      <td>1.244091</td>\n",
       "      <td>29.548369</td>\n",
       "      <td>6.068179</td>\n",
       "      <td>12.429355</td>\n",
       "      <td>2.156780</td>\n",
       "      <td>2.432628</td>\n",
       "      <td>523.659428</td>\n",
       "      <td>41.859884</td>\n",
       "      <td>0.272955</td>\n",
       "      <td>0.309837</td>\n",
       "      <td>4.006373</td>\n",
       "      <td>39.703999</td>\n",
       "      <td>480.962189</td>\n",
       "      <td>6.588019</td>\n",
       "      <td>6.94183</td>\n",
       "    </tr>\n",
       "    <tr>\n",
       "      <th>min</th>\n",
       "      <td>-2.000000</td>\n",
       "      <td>65.000000</td>\n",
       "      <td>86.600000</td>\n",
       "      <td>141.100000</td>\n",
       "      <td>60.300000</td>\n",
       "      <td>47.800000</td>\n",
       "      <td>1488.000000</td>\n",
       "      <td>61.000000</td>\n",
       "      <td>2.540000</td>\n",
       "      <td>2.070000</td>\n",
       "      <td>7.000000</td>\n",
       "      <td>48.000000</td>\n",
       "      <td>4150.000000</td>\n",
       "      <td>13.000000</td>\n",
       "      <td>16.00000</td>\n",
       "    </tr>\n",
       "    <tr>\n",
       "      <th>25%</th>\n",
       "      <td>0.000000</td>\n",
       "      <td>101.000000</td>\n",
       "      <td>94.500000</td>\n",
       "      <td>166.300000</td>\n",
       "      <td>64.100000</td>\n",
       "      <td>52.000000</td>\n",
       "      <td>2145.000000</td>\n",
       "      <td>97.000000</td>\n",
       "      <td>3.150000</td>\n",
       "      <td>3.110000</td>\n",
       "      <td>8.600000</td>\n",
       "      <td>70.000000</td>\n",
       "      <td>4800.000000</td>\n",
       "      <td>19.000000</td>\n",
       "      <td>25.00000</td>\n",
       "    </tr>\n",
       "    <tr>\n",
       "      <th>50%</th>\n",
       "      <td>1.000000</td>\n",
       "      <td>122.000000</td>\n",
       "      <td>97.000000</td>\n",
       "      <td>173.200000</td>\n",
       "      <td>65.500000</td>\n",
       "      <td>54.100000</td>\n",
       "      <td>2414.000000</td>\n",
       "      <td>119.000000</td>\n",
       "      <td>3.310000</td>\n",
       "      <td>3.290000</td>\n",
       "      <td>9.000000</td>\n",
       "      <td>95.000000</td>\n",
       "      <td>5200.000000</td>\n",
       "      <td>25.000000</td>\n",
       "      <td>30.00000</td>\n",
       "    </tr>\n",
       "    <tr>\n",
       "      <th>75%</th>\n",
       "      <td>2.000000</td>\n",
       "      <td>137.000000</td>\n",
       "      <td>102.400000</td>\n",
       "      <td>183.500000</td>\n",
       "      <td>66.900000</td>\n",
       "      <td>55.500000</td>\n",
       "      <td>2935.000000</td>\n",
       "      <td>141.000000</td>\n",
       "      <td>3.590000</td>\n",
       "      <td>3.410000</td>\n",
       "      <td>9.400000</td>\n",
       "      <td>116.000000</td>\n",
       "      <td>5500.000000</td>\n",
       "      <td>30.000000</td>\n",
       "      <td>36.00000</td>\n",
       "    </tr>\n",
       "    <tr>\n",
       "      <th>max</th>\n",
       "      <td>3.000000</td>\n",
       "      <td>197.000000</td>\n",
       "      <td>120.900000</td>\n",
       "      <td>208.100000</td>\n",
       "      <td>72.300000</td>\n",
       "      <td>59.800000</td>\n",
       "      <td>4066.000000</td>\n",
       "      <td>326.000000</td>\n",
       "      <td>3.940000</td>\n",
       "      <td>4.170000</td>\n",
       "      <td>23.000000</td>\n",
       "      <td>288.000000</td>\n",
       "      <td>6600.000000</td>\n",
       "      <td>49.000000</td>\n",
       "      <td>54.00000</td>\n",
       "    </tr>\n",
       "  </tbody>\n",
       "</table>\n",
       "</div>"
      ],
      "text/plain": [
       "       risk_factor      losses  wheel_base      length       width  \\\n",
       "count   201.000000  201.000000  201.000000  201.000000  201.000000   \n",
       "mean      0.820896  120.791045   98.801990  174.017910   65.900995   \n",
       "std       1.244091   29.548369    6.068179   12.429355    2.156780   \n",
       "min      -2.000000   65.000000   86.600000  141.100000   60.300000   \n",
       "25%       0.000000  101.000000   94.500000  166.300000   64.100000   \n",
       "50%       1.000000  122.000000   97.000000  173.200000   65.500000   \n",
       "75%       2.000000  137.000000  102.400000  183.500000   66.900000   \n",
       "max       3.000000  197.000000  120.900000  208.100000   72.300000   \n",
       "\n",
       "           height  weight_of_curb  size_of_engine        bore      stroke  \\\n",
       "count  201.000000      201.000000      201.000000  201.000000  201.000000   \n",
       "mean    53.765174     2554.686567      126.676617    3.328657    3.248308   \n",
       "std      2.432628      523.659428       41.859884    0.272955    0.309837   \n",
       "min     47.800000     1488.000000       61.000000    2.540000    2.070000   \n",
       "25%     52.000000     2145.000000       97.000000    3.150000    3.110000   \n",
       "50%     54.100000     2414.000000      119.000000    3.310000    3.290000   \n",
       "75%     55.500000     2935.000000      141.000000    3.590000    3.410000   \n",
       "max     59.800000     4066.000000      326.000000    3.940000    4.170000   \n",
       "\n",
       "       ratio_of_comprehenssion  horsepower     peak_rpm  mpg_in_city  \\\n",
       "count               201.000000  201.000000   201.000000   201.000000   \n",
       "mean                 10.170746  104.049751  5123.134328    25.278607   \n",
       "std                   4.006373   39.703999   480.962189     6.588019   \n",
       "min                   7.000000   48.000000  4150.000000    13.000000   \n",
       "25%                   8.600000   70.000000  4800.000000    19.000000   \n",
       "50%                   9.000000   95.000000  5200.000000    25.000000   \n",
       "75%                   9.400000  116.000000  5500.000000    30.000000   \n",
       "max                  23.000000  288.000000  6600.000000    49.000000   \n",
       "\n",
       "       mpg_on_highway  \n",
       "count       201.00000  \n",
       "mean         30.78607  \n",
       "std           6.94183  \n",
       "min          16.00000  \n",
       "25%          25.00000  \n",
       "50%          30.00000  \n",
       "75%          36.00000  \n",
       "max          54.00000  "
      ]
     },
     "execution_count": 95,
     "metadata": {},
     "output_type": "execute_result"
    }
   ],
   "source": [
    "x.describe()"
   ]
  },
  {
   "cell_type": "code",
   "execution_count": 96,
   "id": "f06cf861",
   "metadata": {},
   "outputs": [
    {
     "data": {
      "text/plain": [
       "(201, 24)"
      ]
     },
     "execution_count": 96,
     "metadata": {},
     "output_type": "execute_result"
    }
   ],
   "source": [
    "x.shape"
   ]
  },
  {
   "cell_type": "code",
   "execution_count": 97,
   "id": "835bca99",
   "metadata": {},
   "outputs": [],
   "source": [
    "x[['size_of_engine', 'weight_of_curb', 'horsepower',\n",
    "       'width', 'mpg_on_highway', 'length', 'mpg_in_city', 'wheel_base',\n",
    "       'bore', 'losses', 'height', 'peak_rpm', 'stroke',\n",
    "       'ratio_of_comprehenssion']]=mmscaler.fit_transform(x[['size_of_engine', 'weight_of_curb', 'horsepower',\n",
    "       'width', 'mpg_on_highway', 'length', 'mpg_in_city', 'wheel_base',\n",
    "       'bore', 'losses', 'height', 'peak_rpm', 'stroke',\n",
    "       'ratio_of_comprehenssion']])"
   ]
  },
  {
   "cell_type": "code",
   "execution_count": null,
   "id": "48b8fc72",
   "metadata": {},
   "outputs": [],
   "source": []
  },
  {
   "cell_type": "markdown",
   "id": "5bfd7141",
   "metadata": {},
   "source": [
    "### One hot encoding of the data, so that string type data can be converted to numeric"
   ]
  },
  {
   "cell_type": "code",
   "execution_count": 98,
   "id": "80f902dc",
   "metadata": {},
   "outputs": [],
   "source": [
    "x=pd.get_dummies(x)"
   ]
  },
  {
   "cell_type": "code",
   "execution_count": 99,
   "id": "f9d5233f",
   "metadata": {
    "scrolled": true
   },
   "outputs": [
    {
     "data": {
      "text/html": [
       "<div>\n",
       "<style scoped>\n",
       "    .dataframe tbody tr th:only-of-type {\n",
       "        vertical-align: middle;\n",
       "    }\n",
       "\n",
       "    .dataframe tbody tr th {\n",
       "        vertical-align: top;\n",
       "    }\n",
       "\n",
       "    .dataframe thead th {\n",
       "        text-align: right;\n",
       "    }\n",
       "</style>\n",
       "<table border=\"1\" class=\"dataframe\">\n",
       "  <thead>\n",
       "    <tr style=\"text-align: right;\">\n",
       "      <th></th>\n",
       "      <th>risk_factor</th>\n",
       "      <th>losses</th>\n",
       "      <th>wheel_base</th>\n",
       "      <th>length</th>\n",
       "      <th>width</th>\n",
       "      <th>height</th>\n",
       "      <th>weight_of_curb</th>\n",
       "      <th>size_of_engine</th>\n",
       "      <th>bore</th>\n",
       "      <th>stroke</th>\n",
       "      <th>...</th>\n",
       "      <th>total_cylinders_twelve</th>\n",
       "      <th>total_cylinders_two</th>\n",
       "      <th>system_of_fuel_1bbl</th>\n",
       "      <th>system_of_fuel_2bbl</th>\n",
       "      <th>system_of_fuel_4bbl</th>\n",
       "      <th>system_of_fuel_idi</th>\n",
       "      <th>system_of_fuel_mfi</th>\n",
       "      <th>system_of_fuel_mpfi</th>\n",
       "      <th>system_of_fuel_spdi</th>\n",
       "      <th>system_of_fuel_spfi</th>\n",
       "    </tr>\n",
       "  </thead>\n",
       "  <tbody>\n",
       "    <tr>\n",
       "      <th>0</th>\n",
       "      <td>3</td>\n",
       "      <td>0.431818</td>\n",
       "      <td>0.058309</td>\n",
       "      <td>0.413433</td>\n",
       "      <td>0.316667</td>\n",
       "      <td>0.083333</td>\n",
       "      <td>0.411171</td>\n",
       "      <td>0.260377</td>\n",
       "      <td>0.664286</td>\n",
       "      <td>0.290476</td>\n",
       "      <td>...</td>\n",
       "      <td>0</td>\n",
       "      <td>0</td>\n",
       "      <td>0</td>\n",
       "      <td>0</td>\n",
       "      <td>0</td>\n",
       "      <td>0</td>\n",
       "      <td>0</td>\n",
       "      <td>1</td>\n",
       "      <td>0</td>\n",
       "      <td>0</td>\n",
       "    </tr>\n",
       "    <tr>\n",
       "      <th>1</th>\n",
       "      <td>3</td>\n",
       "      <td>0.431818</td>\n",
       "      <td>0.058309</td>\n",
       "      <td>0.413433</td>\n",
       "      <td>0.316667</td>\n",
       "      <td>0.083333</td>\n",
       "      <td>0.411171</td>\n",
       "      <td>0.260377</td>\n",
       "      <td>0.664286</td>\n",
       "      <td>0.290476</td>\n",
       "      <td>...</td>\n",
       "      <td>0</td>\n",
       "      <td>0</td>\n",
       "      <td>0</td>\n",
       "      <td>0</td>\n",
       "      <td>0</td>\n",
       "      <td>0</td>\n",
       "      <td>0</td>\n",
       "      <td>1</td>\n",
       "      <td>0</td>\n",
       "      <td>0</td>\n",
       "    </tr>\n",
       "    <tr>\n",
       "      <th>2</th>\n",
       "      <td>1</td>\n",
       "      <td>0.431818</td>\n",
       "      <td>0.230321</td>\n",
       "      <td>0.449254</td>\n",
       "      <td>0.433333</td>\n",
       "      <td>0.383333</td>\n",
       "      <td>0.517843</td>\n",
       "      <td>0.343396</td>\n",
       "      <td>0.100000</td>\n",
       "      <td>0.666667</td>\n",
       "      <td>...</td>\n",
       "      <td>0</td>\n",
       "      <td>0</td>\n",
       "      <td>0</td>\n",
       "      <td>0</td>\n",
       "      <td>0</td>\n",
       "      <td>0</td>\n",
       "      <td>0</td>\n",
       "      <td>1</td>\n",
       "      <td>0</td>\n",
       "      <td>0</td>\n",
       "    </tr>\n",
       "    <tr>\n",
       "      <th>3</th>\n",
       "      <td>2</td>\n",
       "      <td>0.750000</td>\n",
       "      <td>0.384840</td>\n",
       "      <td>0.529851</td>\n",
       "      <td>0.491667</td>\n",
       "      <td>0.541667</td>\n",
       "      <td>0.329325</td>\n",
       "      <td>0.181132</td>\n",
       "      <td>0.464286</td>\n",
       "      <td>0.633333</td>\n",
       "      <td>...</td>\n",
       "      <td>0</td>\n",
       "      <td>0</td>\n",
       "      <td>0</td>\n",
       "      <td>0</td>\n",
       "      <td>0</td>\n",
       "      <td>0</td>\n",
       "      <td>0</td>\n",
       "      <td>1</td>\n",
       "      <td>0</td>\n",
       "      <td>0</td>\n",
       "    </tr>\n",
       "    <tr>\n",
       "      <th>4</th>\n",
       "      <td>2</td>\n",
       "      <td>0.750000</td>\n",
       "      <td>0.373178</td>\n",
       "      <td>0.529851</td>\n",
       "      <td>0.508333</td>\n",
       "      <td>0.541667</td>\n",
       "      <td>0.518231</td>\n",
       "      <td>0.283019</td>\n",
       "      <td>0.464286</td>\n",
       "      <td>0.633333</td>\n",
       "      <td>...</td>\n",
       "      <td>0</td>\n",
       "      <td>0</td>\n",
       "      <td>0</td>\n",
       "      <td>0</td>\n",
       "      <td>0</td>\n",
       "      <td>0</td>\n",
       "      <td>0</td>\n",
       "      <td>1</td>\n",
       "      <td>0</td>\n",
       "      <td>0</td>\n",
       "    </tr>\n",
       "  </tbody>\n",
       "</table>\n",
       "<p>5 rows × 72 columns</p>\n",
       "</div>"
      ],
      "text/plain": [
       "   risk_factor    losses  wheel_base    length     width    height  \\\n",
       "0            3  0.431818    0.058309  0.413433  0.316667  0.083333   \n",
       "1            3  0.431818    0.058309  0.413433  0.316667  0.083333   \n",
       "2            1  0.431818    0.230321  0.449254  0.433333  0.383333   \n",
       "3            2  0.750000    0.384840  0.529851  0.491667  0.541667   \n",
       "4            2  0.750000    0.373178  0.529851  0.508333  0.541667   \n",
       "\n",
       "   weight_of_curb  size_of_engine      bore    stroke  ...  \\\n",
       "0        0.411171        0.260377  0.664286  0.290476  ...   \n",
       "1        0.411171        0.260377  0.664286  0.290476  ...   \n",
       "2        0.517843        0.343396  0.100000  0.666667  ...   \n",
       "3        0.329325        0.181132  0.464286  0.633333  ...   \n",
       "4        0.518231        0.283019  0.464286  0.633333  ...   \n",
       "\n",
       "   total_cylinders_twelve  total_cylinders_two  system_of_fuel_1bbl  \\\n",
       "0                       0                    0                    0   \n",
       "1                       0                    0                    0   \n",
       "2                       0                    0                    0   \n",
       "3                       0                    0                    0   \n",
       "4                       0                    0                    0   \n",
       "\n",
       "   system_of_fuel_2bbl  system_of_fuel_4bbl  system_of_fuel_idi  \\\n",
       "0                    0                    0                   0   \n",
       "1                    0                    0                   0   \n",
       "2                    0                    0                   0   \n",
       "3                    0                    0                   0   \n",
       "4                    0                    0                   0   \n",
       "\n",
       "   system_of_fuel_mfi  system_of_fuel_mpfi  system_of_fuel_spdi  \\\n",
       "0                   0                    1                    0   \n",
       "1                   0                    1                    0   \n",
       "2                   0                    1                    0   \n",
       "3                   0                    1                    0   \n",
       "4                   0                    1                    0   \n",
       "\n",
       "   system_of_fuel_spfi  \n",
       "0                    0  \n",
       "1                    0  \n",
       "2                    0  \n",
       "3                    0  \n",
       "4                    0  \n",
       "\n",
       "[5 rows x 72 columns]"
      ]
     },
     "execution_count": 99,
     "metadata": {},
     "output_type": "execute_result"
    }
   ],
   "source": [
    "x.head()"
   ]
  },
  {
   "cell_type": "markdown",
   "id": "3594f3eb",
   "metadata": {},
   "source": [
    "### Checking if there are intersting correlation happening"
   ]
  },
  {
   "cell_type": "code",
   "execution_count": 100,
   "id": "1f2c7aec",
   "metadata": {
    "scrolled": true
   },
   "outputs": [
    {
     "data": {
      "text/html": [
       "<div>\n",
       "<style scoped>\n",
       "    .dataframe tbody tr th:only-of-type {\n",
       "        vertical-align: middle;\n",
       "    }\n",
       "\n",
       "    .dataframe tbody tr th {\n",
       "        vertical-align: top;\n",
       "    }\n",
       "\n",
       "    .dataframe thead th {\n",
       "        text-align: right;\n",
       "    }\n",
       "</style>\n",
       "<table border=\"1\" class=\"dataframe\">\n",
       "  <thead>\n",
       "    <tr style=\"text-align: right;\">\n",
       "      <th></th>\n",
       "      <th>risk_factor</th>\n",
       "      <th>losses</th>\n",
       "      <th>wheel_base</th>\n",
       "      <th>length</th>\n",
       "      <th>width</th>\n",
       "      <th>height</th>\n",
       "      <th>weight_of_curb</th>\n",
       "      <th>size_of_engine</th>\n",
       "      <th>bore</th>\n",
       "      <th>stroke</th>\n",
       "      <th>...</th>\n",
       "      <th>total_cylinders_twelve</th>\n",
       "      <th>total_cylinders_two</th>\n",
       "      <th>system_of_fuel_1bbl</th>\n",
       "      <th>system_of_fuel_2bbl</th>\n",
       "      <th>system_of_fuel_4bbl</th>\n",
       "      <th>system_of_fuel_idi</th>\n",
       "      <th>system_of_fuel_mfi</th>\n",
       "      <th>system_of_fuel_mpfi</th>\n",
       "      <th>system_of_fuel_spdi</th>\n",
       "      <th>system_of_fuel_spfi</th>\n",
       "    </tr>\n",
       "  </thead>\n",
       "  <tbody>\n",
       "    <tr>\n",
       "      <th>risk_factor</th>\n",
       "      <td>1.000000</td>\n",
       "      <td>0.466866</td>\n",
       "      <td>0.532249</td>\n",
       "      <td>0.355862</td>\n",
       "      <td>0.230066</td>\n",
       "      <td>0.537029</td>\n",
       "      <td>0.225343</td>\n",
       "      <td>0.104809</td>\n",
       "      <td>0.128222</td>\n",
       "      <td>0.015577</td>\n",
       "      <td>...</td>\n",
       "      <td>0.046774</td>\n",
       "      <td>0.250211</td>\n",
       "      <td>0.035778</td>\n",
       "      <td>0.027139</td>\n",
       "      <td>0.216141</td>\n",
       "      <td>0.193099</td>\n",
       "      <td>0.124164</td>\n",
       "      <td>0.000963</td>\n",
       "      <td>0.186325</td>\n",
       "      <td>0.067184</td>\n",
       "    </tr>\n",
       "    <tr>\n",
       "      <th>losses</th>\n",
       "      <td>0.466866</td>\n",
       "      <td>1.000000</td>\n",
       "      <td>0.046472</td>\n",
       "      <td>0.029374</td>\n",
       "      <td>0.094473</td>\n",
       "      <td>0.354358</td>\n",
       "      <td>0.100199</td>\n",
       "      <td>0.106397</td>\n",
       "      <td>0.027070</td>\n",
       "      <td>0.048688</td>\n",
       "      <td>...</td>\n",
       "      <td>0.002900</td>\n",
       "      <td>0.141209</td>\n",
       "      <td>0.134845</td>\n",
       "      <td>0.132344</td>\n",
       "      <td>0.121981</td>\n",
       "      <td>0.096324</td>\n",
       "      <td>0.058078</td>\n",
       "      <td>0.173729</td>\n",
       "      <td>0.078254</td>\n",
       "      <td>0.002900</td>\n",
       "    </tr>\n",
       "    <tr>\n",
       "      <th>wheel_base</th>\n",
       "      <td>0.532249</td>\n",
       "      <td>0.046472</td>\n",
       "      <td>1.000000</td>\n",
       "      <td>0.878029</td>\n",
       "      <td>0.798412</td>\n",
       "      <td>0.594851</td>\n",
       "      <td>0.778451</td>\n",
       "      <td>0.571886</td>\n",
       "      <td>0.491075</td>\n",
       "      <td>0.175616</td>\n",
       "      <td>...</td>\n",
       "      <td>0.037359</td>\n",
       "      <td>0.082440</td>\n",
       "      <td>0.193412</td>\n",
       "      <td>0.404524</td>\n",
       "      <td>0.071214</td>\n",
       "      <td>0.306872</td>\n",
       "      <td>0.033900</td>\n",
       "      <td>0.362181</td>\n",
       "      <td>0.119298</td>\n",
       "      <td>0.032732</td>\n",
       "    </tr>\n",
       "    <tr>\n",
       "      <th>length</th>\n",
       "      <td>0.355862</td>\n",
       "      <td>0.029374</td>\n",
       "      <td>0.878029</td>\n",
       "      <td>1.000000</td>\n",
       "      <td>0.841204</td>\n",
       "      <td>0.498810</td>\n",
       "      <td>0.879519</td>\n",
       "      <td>0.684011</td>\n",
       "      <td>0.604906</td>\n",
       "      <td>0.125492</td>\n",
       "      <td>...</td>\n",
       "      <td>0.100845</td>\n",
       "      <td>0.057671</td>\n",
       "      <td>0.297624</td>\n",
       "      <td>0.488996</td>\n",
       "      <td>0.049818</td>\n",
       "      <td>0.214274</td>\n",
       "      <td>0.004665</td>\n",
       "      <td>0.515960</td>\n",
       "      <td>0.079476</td>\n",
       "      <td>0.008087</td>\n",
       "    </tr>\n",
       "    <tr>\n",
       "      <th>width</th>\n",
       "      <td>0.230066</td>\n",
       "      <td>0.094473</td>\n",
       "      <td>0.798412</td>\n",
       "      <td>0.841204</td>\n",
       "      <td>1.000000</td>\n",
       "      <td>0.289296</td>\n",
       "      <td>0.866877</td>\n",
       "      <td>0.734005</td>\n",
       "      <td>0.557489</td>\n",
       "      <td>0.183399</td>\n",
       "      <td>...</td>\n",
       "      <td>0.154443</td>\n",
       "      <td>0.013312</td>\n",
       "      <td>0.194306</td>\n",
       "      <td>0.525246</td>\n",
       "      <td>0.011500</td>\n",
       "      <td>0.236245</td>\n",
       "      <td>0.013114</td>\n",
       "      <td>0.466023</td>\n",
       "      <td>0.045945</td>\n",
       "      <td>0.023040</td>\n",
       "    </tr>\n",
       "    <tr>\n",
       "      <th>...</th>\n",
       "      <td>...</td>\n",
       "      <td>...</td>\n",
       "      <td>...</td>\n",
       "      <td>...</td>\n",
       "      <td>...</td>\n",
       "      <td>...</td>\n",
       "      <td>...</td>\n",
       "      <td>...</td>\n",
       "      <td>...</td>\n",
       "      <td>...</td>\n",
       "      <td>...</td>\n",
       "      <td>...</td>\n",
       "      <td>...</td>\n",
       "      <td>...</td>\n",
       "      <td>...</td>\n",
       "      <td>...</td>\n",
       "      <td>...</td>\n",
       "      <td>...</td>\n",
       "      <td>...</td>\n",
       "      <td>...</td>\n",
       "      <td>...</td>\n",
       "    </tr>\n",
       "    <tr>\n",
       "      <th>system_of_fuel_idi</th>\n",
       "      <td>0.193099</td>\n",
       "      <td>0.096324</td>\n",
       "      <td>0.306872</td>\n",
       "      <td>0.214274</td>\n",
       "      <td>0.236245</td>\n",
       "      <td>0.283542</td>\n",
       "      <td>0.218984</td>\n",
       "      <td>0.071834</td>\n",
       "      <td>0.055968</td>\n",
       "      <td>0.255108</td>\n",
       "      <td>...</td>\n",
       "      <td>0.023505</td>\n",
       "      <td>0.047367</td>\n",
       "      <td>0.079983</td>\n",
       "      <td>0.232424</td>\n",
       "      <td>0.040917</td>\n",
       "      <td>1.000000</td>\n",
       "      <td>0.023505</td>\n",
       "      <td>0.299320</td>\n",
       "      <td>0.071969</td>\n",
       "      <td>0.023505</td>\n",
       "    </tr>\n",
       "    <tr>\n",
       "      <th>system_of_fuel_mfi</th>\n",
       "      <td>0.124164</td>\n",
       "      <td>0.058078</td>\n",
       "      <td>0.033900</td>\n",
       "      <td>0.004665</td>\n",
       "      <td>0.013114</td>\n",
       "      <td>0.103890</td>\n",
       "      <td>0.034697</td>\n",
       "      <td>0.049657</td>\n",
       "      <td>0.070469</td>\n",
       "      <td>0.149100</td>\n",
       "      <td>...</td>\n",
       "      <td>0.005000</td>\n",
       "      <td>0.010076</td>\n",
       "      <td>0.017014</td>\n",
       "      <td>0.049441</td>\n",
       "      <td>0.008704</td>\n",
       "      <td>0.023505</td>\n",
       "      <td>1.000000</td>\n",
       "      <td>0.063671</td>\n",
       "      <td>0.015309</td>\n",
       "      <td>0.005000</td>\n",
       "    </tr>\n",
       "    <tr>\n",
       "      <th>system_of_fuel_mpfi</th>\n",
       "      <td>0.000963</td>\n",
       "      <td>0.173729</td>\n",
       "      <td>0.362181</td>\n",
       "      <td>0.515960</td>\n",
       "      <td>0.466023</td>\n",
       "      <td>0.130019</td>\n",
       "      <td>0.526787</td>\n",
       "      <td>0.485472</td>\n",
       "      <td>0.420773</td>\n",
       "      <td>0.140097</td>\n",
       "      <td>...</td>\n",
       "      <td>0.078528</td>\n",
       "      <td>0.056670</td>\n",
       "      <td>0.216660</td>\n",
       "      <td>0.629600</td>\n",
       "      <td>0.110838</td>\n",
       "      <td>0.299320</td>\n",
       "      <td>0.063671</td>\n",
       "      <td>1.000000</td>\n",
       "      <td>0.194953</td>\n",
       "      <td>0.063671</td>\n",
       "    </tr>\n",
       "    <tr>\n",
       "      <th>system_of_fuel_spdi</th>\n",
       "      <td>0.186325</td>\n",
       "      <td>0.078254</td>\n",
       "      <td>0.119298</td>\n",
       "      <td>0.079476</td>\n",
       "      <td>0.045945</td>\n",
       "      <td>0.286373</td>\n",
       "      <td>0.002081</td>\n",
       "      <td>0.005710</td>\n",
       "      <td>0.003349</td>\n",
       "      <td>0.261934</td>\n",
       "      <td>...</td>\n",
       "      <td>0.015309</td>\n",
       "      <td>0.030851</td>\n",
       "      <td>0.052094</td>\n",
       "      <td>0.151383</td>\n",
       "      <td>0.026650</td>\n",
       "      <td>0.071969</td>\n",
       "      <td>0.015309</td>\n",
       "      <td>0.194953</td>\n",
       "      <td>1.000000</td>\n",
       "      <td>0.015309</td>\n",
       "    </tr>\n",
       "    <tr>\n",
       "      <th>system_of_fuel_spfi</th>\n",
       "      <td>0.067184</td>\n",
       "      <td>0.002900</td>\n",
       "      <td>0.032732</td>\n",
       "      <td>0.008087</td>\n",
       "      <td>0.023040</td>\n",
       "      <td>0.068922</td>\n",
       "      <td>0.024273</td>\n",
       "      <td>0.013000</td>\n",
       "      <td>0.026319</td>\n",
       "      <td>0.004189</td>\n",
       "      <td>...</td>\n",
       "      <td>0.005000</td>\n",
       "      <td>0.010076</td>\n",
       "      <td>0.017014</td>\n",
       "      <td>0.049441</td>\n",
       "      <td>0.008704</td>\n",
       "      <td>0.023505</td>\n",
       "      <td>0.005000</td>\n",
       "      <td>0.063671</td>\n",
       "      <td>0.015309</td>\n",
       "      <td>1.000000</td>\n",
       "    </tr>\n",
       "  </tbody>\n",
       "</table>\n",
       "<p>72 rows × 72 columns</p>\n",
       "</div>"
      ],
      "text/plain": [
       "                     risk_factor    losses  wheel_base    length     width  \\\n",
       "risk_factor             1.000000  0.466866    0.532249  0.355862  0.230066   \n",
       "losses                  0.466866  1.000000    0.046472  0.029374  0.094473   \n",
       "wheel_base              0.532249  0.046472    1.000000  0.878029  0.798412   \n",
       "length                  0.355862  0.029374    0.878029  1.000000  0.841204   \n",
       "width                   0.230066  0.094473    0.798412  0.841204  1.000000   \n",
       "...                          ...       ...         ...       ...       ...   \n",
       "system_of_fuel_idi      0.193099  0.096324    0.306872  0.214274  0.236245   \n",
       "system_of_fuel_mfi      0.124164  0.058078    0.033900  0.004665  0.013114   \n",
       "system_of_fuel_mpfi     0.000963  0.173729    0.362181  0.515960  0.466023   \n",
       "system_of_fuel_spdi     0.186325  0.078254    0.119298  0.079476  0.045945   \n",
       "system_of_fuel_spfi     0.067184  0.002900    0.032732  0.008087  0.023040   \n",
       "\n",
       "                       height  weight_of_curb  size_of_engine      bore  \\\n",
       "risk_factor          0.537029        0.225343        0.104809  0.128222   \n",
       "losses               0.354358        0.100199        0.106397  0.027070   \n",
       "wheel_base           0.594851        0.778451        0.571886  0.491075   \n",
       "length               0.498810        0.879519        0.684011  0.604906   \n",
       "width                0.289296        0.866877        0.734005  0.557489   \n",
       "...                       ...             ...             ...       ...   \n",
       "system_of_fuel_idi   0.283542        0.218984        0.071834  0.055968   \n",
       "system_of_fuel_mfi   0.103890        0.034697        0.049657  0.070469   \n",
       "system_of_fuel_mpfi  0.130019        0.526787        0.485472  0.420773   \n",
       "system_of_fuel_spdi  0.286373        0.002081        0.005710  0.003349   \n",
       "system_of_fuel_spfi  0.068922        0.024273        0.013000  0.026319   \n",
       "\n",
       "                       stroke  ...  total_cylinders_twelve  \\\n",
       "risk_factor          0.015577  ...                0.046774   \n",
       "losses               0.048688  ...                0.002900   \n",
       "wheel_base           0.175616  ...                0.037359   \n",
       "length               0.125492  ...                0.100845   \n",
       "width                0.183399  ...                0.154443   \n",
       "...                       ...  ...                     ...   \n",
       "system_of_fuel_idi   0.255108  ...                0.023505   \n",
       "system_of_fuel_mfi   0.149100  ...                0.005000   \n",
       "system_of_fuel_mpfi  0.140097  ...                0.078528   \n",
       "system_of_fuel_spdi  0.261934  ...                0.015309   \n",
       "system_of_fuel_spfi  0.004189  ...                0.005000   \n",
       "\n",
       "                     total_cylinders_two  system_of_fuel_1bbl  \\\n",
       "risk_factor                     0.250211             0.035778   \n",
       "losses                          0.141209             0.134845   \n",
       "wheel_base                      0.082440             0.193412   \n",
       "length                          0.057671             0.297624   \n",
       "width                           0.013312             0.194306   \n",
       "...                                  ...                  ...   \n",
       "system_of_fuel_idi              0.047367             0.079983   \n",
       "system_of_fuel_mfi              0.010076             0.017014   \n",
       "system_of_fuel_mpfi             0.056670             0.216660   \n",
       "system_of_fuel_spdi             0.030851             0.052094   \n",
       "system_of_fuel_spfi             0.010076             0.017014   \n",
       "\n",
       "                     system_of_fuel_2bbl  system_of_fuel_4bbl  \\\n",
       "risk_factor                     0.027139             0.216141   \n",
       "losses                          0.132344             0.121981   \n",
       "wheel_base                      0.404524             0.071214   \n",
       "length                          0.488996             0.049818   \n",
       "width                           0.525246             0.011500   \n",
       "...                                  ...                  ...   \n",
       "system_of_fuel_idi              0.232424             0.040917   \n",
       "system_of_fuel_mfi              0.049441             0.008704   \n",
       "system_of_fuel_mpfi             0.629600             0.110838   \n",
       "system_of_fuel_spdi             0.151383             0.026650   \n",
       "system_of_fuel_spfi             0.049441             0.008704   \n",
       "\n",
       "                     system_of_fuel_idi  system_of_fuel_mfi  \\\n",
       "risk_factor                    0.193099            0.124164   \n",
       "losses                         0.096324            0.058078   \n",
       "wheel_base                     0.306872            0.033900   \n",
       "length                         0.214274            0.004665   \n",
       "width                          0.236245            0.013114   \n",
       "...                                 ...                 ...   \n",
       "system_of_fuel_idi             1.000000            0.023505   \n",
       "system_of_fuel_mfi             0.023505            1.000000   \n",
       "system_of_fuel_mpfi            0.299320            0.063671   \n",
       "system_of_fuel_spdi            0.071969            0.015309   \n",
       "system_of_fuel_spfi            0.023505            0.005000   \n",
       "\n",
       "                     system_of_fuel_mpfi  system_of_fuel_spdi  \\\n",
       "risk_factor                     0.000963             0.186325   \n",
       "losses                          0.173729             0.078254   \n",
       "wheel_base                      0.362181             0.119298   \n",
       "length                          0.515960             0.079476   \n",
       "width                           0.466023             0.045945   \n",
       "...                                  ...                  ...   \n",
       "system_of_fuel_idi              0.299320             0.071969   \n",
       "system_of_fuel_mfi              0.063671             0.015309   \n",
       "system_of_fuel_mpfi             1.000000             0.194953   \n",
       "system_of_fuel_spdi             0.194953             1.000000   \n",
       "system_of_fuel_spfi             0.063671             0.015309   \n",
       "\n",
       "                     system_of_fuel_spfi  \n",
       "risk_factor                     0.067184  \n",
       "losses                          0.002900  \n",
       "wheel_base                      0.032732  \n",
       "length                          0.008087  \n",
       "width                           0.023040  \n",
       "...                                  ...  \n",
       "system_of_fuel_idi              0.023505  \n",
       "system_of_fuel_mfi              0.005000  \n",
       "system_of_fuel_mpfi             0.063671  \n",
       "system_of_fuel_spdi             0.015309  \n",
       "system_of_fuel_spfi             1.000000  \n",
       "\n",
       "[72 rows x 72 columns]"
      ]
     },
     "execution_count": 100,
     "metadata": {},
     "output_type": "execute_result"
    }
   ],
   "source": [
    "x.corr().abs()"
   ]
  },
  {
   "cell_type": "code",
   "execution_count": 101,
   "id": "3384cf93",
   "metadata": {},
   "outputs": [
    {
     "data": {
      "text/plain": [
       "<AxesSubplot:>"
      ]
     },
     "execution_count": 101,
     "metadata": {},
     "output_type": "execute_result"
    },
    {
     "data": {
      "image/png": "[encoded data removed]",
      "text/plain": [
       "<Figure size 640x480 with 2 Axes>"
      ]
     },
     "metadata": {},
     "output_type": "display_data"
    }
   ],
   "source": [
    "sns.heatmap(x.corr())"
   ]
  },
  {
   "cell_type": "markdown",
   "id": "36a3b21c",
   "metadata": {},
   "source": [
    "### Splitting model into training and testing dataset"
   ]
  },
  {
   "cell_type": "code",
   "execution_count": 102,
   "id": "7cef82f6",
   "metadata": {},
   "outputs": [],
   "source": [
    "from sklearn.model_selection import train_test_split"
   ]
  },
  {
   "cell_type": "code",
   "execution_count": 103,
   "id": "6061c94b",
   "metadata": {},
   "outputs": [],
   "source": [
    "x_train,x_test,y_train,y_test=train_test_split(x,y,test_size=0.20,random_state=10)"
   ]
  },
  {
   "cell_type": "code",
   "execution_count": 104,
   "id": "6a09e872",
   "metadata": {},
   "outputs": [
    {
     "data": {
      "text/plain": [
       "((160, 72), (41, 72), (160,), (41,))"
      ]
     },
     "execution_count": 104,
     "metadata": {},
     "output_type": "execute_result"
    }
   ],
   "source": [
    "x_train.shape,x_test.shape,y_train.shape,y_test.shape"
   ]
  },
  {
   "cell_type": "code",
   "execution_count": 105,
   "id": "f73dedd3",
   "metadata": {},
   "outputs": [],
   "source": [
    "x_train=x_train.iloc[:,1:]"
   ]
  },
  {
   "cell_type": "code",
   "execution_count": 106,
   "id": "ce5e6c35",
   "metadata": {},
   "outputs": [],
   "source": [
    "x_test=x_test.iloc[:,1:]"
   ]
  },
  {
   "cell_type": "markdown",
   "id": "0603b559",
   "metadata": {},
   "source": [
    "### Applying Multiple Linear regression"
   ]
  },
  {
   "cell_type": "code",
   "execution_count": 107,
   "id": "e17b8813",
   "metadata": {},
   "outputs": [],
   "source": [
    "from sklearn.linear_model import LinearRegression"
   ]
  },
  {
   "cell_type": "code",
   "execution_count": 108,
   "id": "8519982f",
   "metadata": {},
   "outputs": [],
   "source": [
    "linear_model=LinearRegression()"
   ]
  },
  {
   "cell_type": "code",
   "execution_count": 109,
   "id": "df0ac3f9",
   "metadata": {
    "scrolled": true
   },
   "outputs": [
    {
     "data": {
      "text/plain": [
       "LinearRegression()"
      ]
     },
     "execution_count": 109,
     "metadata": {},
     "output_type": "execute_result"
    }
   ],
   "source": [
    "linear_model.fit(x_train,y_train)"
   ]
  },
  {
   "cell_type": "code",
   "execution_count": 110,
   "id": "5a5cb07c",
   "metadata": {
    "scrolled": false
   },
   "outputs": [
    {
     "data": {
      "text/html": [
       "<div>\n",
       "<style scoped>\n",
       "    .dataframe tbody tr th:only-of-type {\n",
       "        vertical-align: middle;\n",
       "    }\n",
       "\n",
       "    .dataframe tbody tr th {\n",
       "        vertical-align: top;\n",
       "    }\n",
       "\n",
       "    .dataframe thead th {\n",
       "        text-align: right;\n",
       "    }\n",
       "</style>\n",
       "<table border=\"1\" class=\"dataframe\">\n",
       "  <thead>\n",
       "    <tr style=\"text-align: right;\">\n",
       "      <th></th>\n",
       "      <th>losses</th>\n",
       "      <th>wheel_base</th>\n",
       "      <th>length</th>\n",
       "      <th>width</th>\n",
       "      <th>height</th>\n",
       "      <th>weight_of_curb</th>\n",
       "      <th>size_of_engine</th>\n",
       "      <th>bore</th>\n",
       "      <th>stroke</th>\n",
       "      <th>ratio_of_comprehenssion</th>\n",
       "      <th>...</th>\n",
       "      <th>total_cylinders_twelve</th>\n",
       "      <th>total_cylinders_two</th>\n",
       "      <th>system_of_fuel_1bbl</th>\n",
       "      <th>system_of_fuel_2bbl</th>\n",
       "      <th>system_of_fuel_4bbl</th>\n",
       "      <th>system_of_fuel_idi</th>\n",
       "      <th>system_of_fuel_mfi</th>\n",
       "      <th>system_of_fuel_mpfi</th>\n",
       "      <th>system_of_fuel_spdi</th>\n",
       "      <th>system_of_fuel_spfi</th>\n",
       "    </tr>\n",
       "  </thead>\n",
       "  <tbody>\n",
       "    <tr>\n",
       "      <th>59</th>\n",
       "      <td>0.484848</td>\n",
       "      <td>0.355685</td>\n",
       "      <td>0.547761</td>\n",
       "      <td>0.516667</td>\n",
       "      <td>0.491667</td>\n",
       "      <td>0.347944</td>\n",
       "      <td>0.230189</td>\n",
       "      <td>0.607143</td>\n",
       "      <td>0.628571</td>\n",
       "      <td>0.10000</td>\n",
       "      <td>...</td>\n",
       "      <td>0</td>\n",
       "      <td>0</td>\n",
       "      <td>0</td>\n",
       "      <td>1</td>\n",
       "      <td>0</td>\n",
       "      <td>0</td>\n",
       "      <td>0</td>\n",
       "      <td>0</td>\n",
       "      <td>0</td>\n",
       "      <td>0</td>\n",
       "    </tr>\n",
       "    <tr>\n",
       "      <th>5</th>\n",
       "      <td>0.431818</td>\n",
       "      <td>0.384840</td>\n",
       "      <td>0.540299</td>\n",
       "      <td>0.500000</td>\n",
       "      <td>0.441667</td>\n",
       "      <td>0.395268</td>\n",
       "      <td>0.283019</td>\n",
       "      <td>0.464286</td>\n",
       "      <td>0.633333</td>\n",
       "      <td>0.09375</td>\n",
       "      <td>...</td>\n",
       "      <td>0</td>\n",
       "      <td>0</td>\n",
       "      <td>0</td>\n",
       "      <td>0</td>\n",
       "      <td>0</td>\n",
       "      <td>0</td>\n",
       "      <td>0</td>\n",
       "      <td>1</td>\n",
       "      <td>0</td>\n",
       "      <td>0</td>\n",
       "    </tr>\n",
       "    <tr>\n",
       "      <th>20</th>\n",
       "      <td>0.121212</td>\n",
       "      <td>0.230321</td>\n",
       "      <td>0.264179</td>\n",
       "      <td>0.275000</td>\n",
       "      <td>0.350000</td>\n",
       "      <td>0.163305</td>\n",
       "      <td>0.109434</td>\n",
       "      <td>0.350000</td>\n",
       "      <td>0.495238</td>\n",
       "      <td>0.16250</td>\n",
       "      <td>...</td>\n",
       "      <td>0</td>\n",
       "      <td>0</td>\n",
       "      <td>0</td>\n",
       "      <td>1</td>\n",
       "      <td>0</td>\n",
       "      <td>0</td>\n",
       "      <td>0</td>\n",
       "      <td>0</td>\n",
       "      <td>0</td>\n",
       "      <td>0</td>\n",
       "    </tr>\n",
       "    <tr>\n",
       "      <th>128</th>\n",
       "      <td>0.431818</td>\n",
       "      <td>0.084548</td>\n",
       "      <td>0.414925</td>\n",
       "      <td>0.391667</td>\n",
       "      <td>0.316667</td>\n",
       "      <td>0.508922</td>\n",
       "      <td>0.501887</td>\n",
       "      <td>0.857143</td>\n",
       "      <td>0.395238</td>\n",
       "      <td>0.15625</td>\n",
       "      <td>...</td>\n",
       "      <td>0</td>\n",
       "      <td>0</td>\n",
       "      <td>0</td>\n",
       "      <td>0</td>\n",
       "      <td>0</td>\n",
       "      <td>0</td>\n",
       "      <td>0</td>\n",
       "      <td>1</td>\n",
       "      <td>0</td>\n",
       "      <td>0</td>\n",
       "    </tr>\n",
       "    <tr>\n",
       "      <th>52</th>\n",
       "      <td>0.295455</td>\n",
       "      <td>0.189504</td>\n",
       "      <td>0.268657</td>\n",
       "      <td>0.325000</td>\n",
       "      <td>0.525000</td>\n",
       "      <td>0.161753</td>\n",
       "      <td>0.113208</td>\n",
       "      <td>0.350000</td>\n",
       "      <td>0.514286</td>\n",
       "      <td>0.12500</td>\n",
       "      <td>...</td>\n",
       "      <td>0</td>\n",
       "      <td>0</td>\n",
       "      <td>0</td>\n",
       "      <td>1</td>\n",
       "      <td>0</td>\n",
       "      <td>0</td>\n",
       "      <td>0</td>\n",
       "      <td>0</td>\n",
       "      <td>0</td>\n",
       "      <td>0</td>\n",
       "    </tr>\n",
       "  </tbody>\n",
       "</table>\n",
       "<p>5 rows × 71 columns</p>\n",
       "</div>"
      ],
      "text/plain": [
       "       losses  wheel_base    length     width    height  weight_of_curb  \\\n",
       "59   0.484848    0.355685  0.547761  0.516667  0.491667        0.347944   \n",
       "5    0.431818    0.384840  0.540299  0.500000  0.441667        0.395268   \n",
       "20   0.121212    0.230321  0.264179  0.275000  0.350000        0.163305   \n",
       "128  0.431818    0.084548  0.414925  0.391667  0.316667        0.508922   \n",
       "52   0.295455    0.189504  0.268657  0.325000  0.525000        0.161753   \n",
       "\n",
       "     size_of_engine      bore    stroke  ratio_of_comprehenssion  ...  \\\n",
       "59         0.230189  0.607143  0.628571                  0.10000  ...   \n",
       "5          0.283019  0.464286  0.633333                  0.09375  ...   \n",
       "20         0.109434  0.350000  0.495238                  0.16250  ...   \n",
       "128        0.501887  0.857143  0.395238                  0.15625  ...   \n",
       "52         0.113208  0.350000  0.514286                  0.12500  ...   \n",
       "\n",
       "     total_cylinders_twelve  total_cylinders_two  system_of_fuel_1bbl  \\\n",
       "59                        0                    0                    0   \n",
       "5                         0                    0                    0   \n",
       "20                        0                    0                    0   \n",
       "128                       0                    0                    0   \n",
       "52                        0                    0                    0   \n",
       "\n",
       "     system_of_fuel_2bbl  system_of_fuel_4bbl  system_of_fuel_idi  \\\n",
       "59                     1                    0                   0   \n",
       "5                      0                    0                   0   \n",
       "20                     1                    0                   0   \n",
       "128                    0                    0                   0   \n",
       "52                     1                    0                   0   \n",
       "\n",
       "     system_of_fuel_mfi  system_of_fuel_mpfi  system_of_fuel_spdi  \\\n",
       "59                    0                    0                    0   \n",
       "5                     0                    1                    0   \n",
       "20                    0                    0                    0   \n",
       "128                   0                    1                    0   \n",
       "52                    0                    0                    0   \n",
       "\n",
       "     system_of_fuel_spfi  \n",
       "59                     0  \n",
       "5                      0  \n",
       "20                     0  \n",
       "128                    0  \n",
       "52                     0  \n",
       "\n",
       "[5 rows x 71 columns]"
      ]
     },
     "execution_count": 110,
     "metadata": {},
     "output_type": "execute_result"
    }
   ],
   "source": [
    "x_test.head()"
   ]
  },
  {
   "cell_type": "code",
   "execution_count": 111,
   "id": "a1f5f0a1",
   "metadata": {},
   "outputs": [
    {
     "data": {
      "text/plain": [
       "array([ 1.09800000e+04,  1.33520000e+04,  9.42471118e+15,  3.74360000e+04,\n",
       "        7.24400000e+03,  9.42471118e+15,  8.70800000e+03,  1.27320000e+04,\n",
       "        2.64000000e+04,  1.28760000e+04,  6.31600000e+03,  1.99760000e+04,\n",
       "        1.08005023e+16,  5.09600000e+03,  1.25040000e+04,  1.19760000e+04,\n",
       "        1.67760000e+04,  6.94000000e+03,  1.67720000e+04,  1.71160000e+04,\n",
       "        6.57200000e+03,  2.75080000e+04,  1.09800000e+04,  1.08880000e+04,\n",
       "        1.63640000e+04,  8.73600000e+03,  7.10000000e+03,  1.34480000e+04,\n",
       "        3.53480000e+04,  9.72800000e+03,  6.43200000e+03,  9.32400000e+03,\n",
       "        6.58000000e+03,  6.12800000e+03,  8.04400000e+03,  1.61240000e+04,\n",
       "        1.55440000e+04,  1.12240000e+04, -5.58845650e+13,  1.67960000e+04,\n",
       "        1.59440000e+04])"
      ]
     },
     "execution_count": 111,
     "metadata": {},
     "output_type": "execute_result"
    }
   ],
   "source": [
    "y_pred=linear_model.predict(x_test)\n",
    "y_pred"
   ]
  },
  {
   "cell_type": "code",
   "execution_count": 112,
   "id": "701aeff2",
   "metadata": {},
   "outputs": [],
   "source": [
    "from sklearn.metrics import r2_score,accuracy_score"
   ]
  },
  {
   "cell_type": "markdown",
   "id": "959c205e",
   "metadata": {},
   "source": [
    "### Score from Regression-ML Alogirthm"
   ]
  },
  {
   "cell_type": "code",
   "execution_count": 113,
   "id": "1661015d",
   "metadata": {
    "scrolled": true
   },
   "outputs": [
    {
     "data": {
      "text/plain": [
       "0.9637330897920863"
      ]
     },
     "execution_count": 113,
     "metadata": {},
     "output_type": "execute_result"
    }
   ],
   "source": [
    "score=linear_model.score(x_train,y_train)\n",
    "score"
   ]
  },
  {
   "cell_type": "code",
   "execution_count": 120,
   "id": "e65bc12b",
   "metadata": {},
   "outputs": [
    {
     "data": {
      "text/plain": [
       "-1.5373213899407477e+23"
      ]
     },
     "execution_count": 120,
     "metadata": {},
     "output_type": "execute_result"
    }
   ],
   "source": [
    "score2=linear_model.score(x_test,y_test)\n",
    "score2"
   ]
  },
  {
   "cell_type": "code",
   "execution_count": 114,
   "id": "2dffd24e",
   "metadata": {
    "scrolled": true
   },
   "outputs": [
    {
     "data": {
      "text/plain": [
       "array([ 1.09800000e+04,  1.33520000e+04,  9.42471118e+15,  3.74360000e+04,\n",
       "        7.24400000e+03,  9.42471118e+15,  8.70800000e+03,  1.27320000e+04,\n",
       "        2.64000000e+04,  1.28760000e+04,  6.31600000e+03,  1.99760000e+04,\n",
       "        1.08005023e+16,  5.09600000e+03,  1.25040000e+04,  1.19760000e+04,\n",
       "        1.67760000e+04,  6.94000000e+03,  1.67720000e+04,  1.71160000e+04,\n",
       "        6.57200000e+03,  2.75080000e+04,  1.09800000e+04,  1.08880000e+04,\n",
       "        1.63640000e+04,  8.73600000e+03,  7.10000000e+03,  1.34480000e+04,\n",
       "        3.53480000e+04,  9.72800000e+03,  6.43200000e+03,  9.32400000e+03,\n",
       "        6.58000000e+03,  6.12800000e+03,  8.04400000e+03,  1.61240000e+04,\n",
       "        1.55440000e+04,  1.12240000e+04, -5.58845650e+13,  1.67960000e+04,\n",
       "        1.59440000e+04])"
      ]
     },
     "execution_count": 114,
     "metadata": {},
     "output_type": "execute_result"
    }
   ],
   "source": [
    "y_pred=linear_model.predict(x_test)\n",
    "y_pred"
   ]
  },
  {
   "cell_type": "markdown",
   "id": "d8865047",
   "metadata": {},
   "source": [
    "### This score clearyl suggest of Overfitting model"
   ]
  },
  {
   "cell_type": "markdown",
   "id": "94b08a40",
   "metadata": {},
   "source": [
    "### Applying Regularization L1 & L2"
   ]
  },
  {
   "cell_type": "code",
   "execution_count": 121,
   "id": "5540cd30",
   "metadata": {},
   "outputs": [],
   "source": [
    "from sklearn.linear_model import Ridge\n",
    "from sklearn.linear_model import Lasso"
   ]
  },
  {
   "cell_type": "code",
   "execution_count": 122,
   "id": "9b8f4dbc",
   "metadata": {},
   "outputs": [
    {
     "data": {
      "text/plain": [
       "Ridge(alpha=7, max_iter=155)"
      ]
     },
     "execution_count": 122,
     "metadata": {},
     "output_type": "execute_result"
    }
   ],
   "source": [
    "ridge_reg=Ridge(alpha=7,max_iter=155)\n",
    "ridge_reg.fit(x_train,y_train)"
   ]
  },
  {
   "cell_type": "code",
   "execution_count": 123,
   "id": "18dd26fb",
   "metadata": {},
   "outputs": [
    {
     "data": {
      "text/plain": [
       "0.8625123462705805"
      ]
     },
     "execution_count": 123,
     "metadata": {},
     "output_type": "execute_result"
    }
   ],
   "source": [
    "ridge_reg.score(x_train,y_train)"
   ]
  },
  {
   "cell_type": "code",
   "execution_count": 124,
   "id": "089e43ed",
   "metadata": {},
   "outputs": [
    {
     "data": {
      "text/plain": [
       "0.8499251968035425"
      ]
     },
     "execution_count": 124,
     "metadata": {},
     "output_type": "execute_result"
    }
   ],
   "source": [
    "ridge_reg.score(x_test,y_test)"
   ]
  },
  {
   "cell_type": "markdown",
   "id": "77495d63",
   "metadata": {},
   "source": [
    "### After iterations with different parameters, scores with ridge has improved-Overfitting removed but accuracy is still less"
   ]
  },
  {
   "cell_type": "markdown",
   "id": "947aafbd",
   "metadata": {},
   "source": [
    "### Applying LASSO regularization"
   ]
  },
  {
   "cell_type": "code",
   "execution_count": 169,
   "id": "359213fe",
   "metadata": {
    "scrolled": true
   },
   "outputs": [
    {
     "name": "stderr",
     "output_type": "stream",
     "text": [
      "C:\\Users\\Hp\\anaconda3\\lib\\site-packages\\sklearn\\linear_model\\_coordinate_descent.py:647: ConvergenceWarning: Objective did not converge. You might want to increase the number of iterations, check the scale of the features or consider increasing regularisation. Duality gap: 1.183e+07, tolerance: 1.065e+06\n",
      "  model = cd_fast.enet_coordinate_descent(\n"
     ]
    },
    {
     "data": {
      "text/plain": [
       "Lasso(alpha=7, max_iter=120)"
      ]
     },
     "execution_count": 169,
     "metadata": {},
     "output_type": "execute_result"
    }
   ],
   "source": [
    "lasso_reg=Lasso(alpha=7,max_iter=120)\n",
    "lasso_reg.fit(x_train,y_train)"
   ]
  },
  {
   "cell_type": "code",
   "execution_count": 170,
   "id": "b7b22616",
   "metadata": {},
   "outputs": [
    {
     "data": {
      "text/plain": [
       "0.9539825792900626"
      ]
     },
     "execution_count": 170,
     "metadata": {},
     "output_type": "execute_result"
    }
   ],
   "source": [
    "lasso_reg.score(x_train,y_train)"
   ]
  },
  {
   "cell_type": "code",
   "execution_count": 171,
   "id": "2abb3c8f",
   "metadata": {},
   "outputs": [
    {
     "data": {
      "text/plain": [
       "0.9328324470172962"
      ]
     },
     "execution_count": 171,
     "metadata": {},
     "output_type": "execute_result"
    }
   ],
   "source": [
    "lasso_reg.score(x_test,y_test)"
   ]
  },
  {
   "cell_type": "markdown",
   "id": "1797cd51",
   "metadata": {},
   "source": [
    "### This accuracy shows the model improved with the help of LASSO"
   ]
  },
  {
   "cell_type": "markdown",
   "id": "3ead4928",
   "metadata": {},
   "source": [
    "### Applying other ML-Alogirthm as Decision Tree & Random Forest"
   ]
  },
  {
   "cell_type": "code",
   "execution_count": 128,
   "id": "97315bfb",
   "metadata": {},
   "outputs": [],
   "source": [
    "from sklearn.tree import DecisionTreeRegressor "
   ]
  },
  {
   "cell_type": "code",
   "execution_count": 146,
   "id": "da2003fd",
   "metadata": {},
   "outputs": [],
   "source": [
    "treemodel= DecisionTreeRegressor(min_impurity_decrease=0.05,random_state=11)"
   ]
  },
  {
   "cell_type": "code",
   "execution_count": 147,
   "id": "d0c31bc6",
   "metadata": {},
   "outputs": [
    {
     "data": {
      "text/plain": [
       "DecisionTreeRegressor(min_impurity_decrease=0.05, random_state=11)"
      ]
     },
     "execution_count": 147,
     "metadata": {},
     "output_type": "execute_result"
    }
   ],
   "source": [
    "treemodel.fit(x_train,y_train)"
   ]
  },
  {
   "cell_type": "code",
   "execution_count": 148,
   "id": "a544fa98",
   "metadata": {},
   "outputs": [
    {
     "data": {
      "text/plain": [
       "array([10345. , 13950. ,  5499. , 33278. ,  6095. ,  5151. , 10295. ,\n",
       "       11845. , 25552. , 22018. ,  7150.5, 16925. , 11900. ,  7603. ,\n",
       "       10198. , 10198. , 17075. ,  6189. , 17950. , 16630. ,  6918. ,\n",
       "       15580. , 10345. ,  8189. , 16695. ,  7995. ,  6918. , 13495. ,\n",
       "       35550. ,  8948.5,  8238. , 10295. ,  5572. ,  6849. ,  7295. ,\n",
       "       16515. , 15985. ,  8921. , 12764. , 15998. , 16515. ])"
      ]
     },
     "execution_count": 148,
     "metadata": {},
     "output_type": "execute_result"
    }
   ],
   "source": [
    "y_pred2=treemodel.predict(x_test)\n",
    "y_pred2"
   ]
  },
  {
   "cell_type": "code",
   "execution_count": 149,
   "id": "b4e1ff6c",
   "metadata": {},
   "outputs": [
    {
     "data": {
      "text/plain": [
       "0.9158020049879919"
      ]
     },
     "execution_count": 149,
     "metadata": {},
     "output_type": "execute_result"
    }
   ],
   "source": [
    "r2=r2_score(y_pred2,y_test)\n",
    "r2"
   ]
  },
  {
   "cell_type": "code",
   "execution_count": 150,
   "id": "7373b1ac",
   "metadata": {},
   "outputs": [],
   "source": [
    "from sklearn.ensemble import RandomForestRegressor "
   ]
  },
  {
   "cell_type": "code",
   "execution_count": 165,
   "id": "146ab078",
   "metadata": {},
   "outputs": [],
   "source": [
    "forestmodel= RandomForestRegressor(n_estimators=25,random_state=10)"
   ]
  },
  {
   "cell_type": "code",
   "execution_count": 166,
   "id": "ce48a5f6",
   "metadata": {},
   "outputs": [
    {
     "data": {
      "text/plain": [
       "RandomForestRegressor(n_estimators=25, random_state=10)"
      ]
     },
     "execution_count": 166,
     "metadata": {},
     "output_type": "execute_result"
    }
   ],
   "source": [
    "forestmodel.fit(x_train,y_train)"
   ]
  },
  {
   "cell_type": "code",
   "execution_count": 167,
   "id": "46101f40",
   "metadata": {},
   "outputs": [
    {
     "data": {
      "text/plain": [
       "array([ 9877.82666667, 12038.16      ,  8168.2716    , 31142.1252    ,\n",
       "        5964.48      ,  8291.0068    , 10727.6       , 12213.        ,\n",
       "       29491.72      , 15058.64      ,  7324.52      , 14814.4       ,\n",
       "       16566.2208    ,  7562.6       , 10214.21333333,  9796.30666667,\n",
       "       16787.16      ,  6446.04      , 16547.        , 18215.4452    ,\n",
       "        8030.36      , 14398.16      ,  9877.82666667,  9615.24      ,\n",
       "       14670.64      ,  8042.96      ,  8104.92      , 12807.76      ,\n",
       "       36163.6       ,  9610.05333333,  8177.32      ,  9980.56      ,\n",
       "        5912.04      ,  6852.8452    ,  7363.34      , 15624.1652    ,\n",
       "       15646.8104    , 10088.        , 12743.32      , 16374.76      ,\n",
       "       15688.36      ])"
      ]
     },
     "execution_count": 167,
     "metadata": {},
     "output_type": "execute_result"
    }
   ],
   "source": [
    "y_pred=forestmodel.predict(x_test)\n",
    "y_pred"
   ]
  },
  {
   "cell_type": "code",
   "execution_count": 168,
   "id": "95822b53",
   "metadata": {},
   "outputs": [
    {
     "data": {
      "text/plain": [
       "0.9221138840248214"
      ]
     },
     "execution_count": 168,
     "metadata": {},
     "output_type": "execute_result"
    }
   ],
   "source": [
    "r2=r2_score(y_pred,y_test)\n",
    "r2"
   ]
  },
  {
   "cell_type": "markdown",
   "id": "85129dd0",
   "metadata": {},
   "source": [
    "## observations from ML-Algorithms\n",
    "#### 1. Compared to Multiple Linear regression, accuracy in Ridge increases\n",
    "#### 2. Compared to Ridge, accuracy in Lasso increases\n",
    "#### 3. Compared to Multiple Linear regression, accuracy in Decision Tree increases\n",
    "#### 4. Compared to Decision Tree, accuracy in Random Forest  increases"
   ]
  },
  {
   "cell_type": "markdown",
   "id": "bfd22968",
   "metadata": {},
   "source": [
    "# Overall insights from excercise"
   ]
  },
  {
   "cell_type": "markdown",
   "id": "d6f451da",
   "metadata": {},
   "source": [
    "## 1. Diesel usage is very less compared to gas cars\n",
    "## 2. Gas vehicles are very high ratio of compresssion\n",
    "## 3. Four wheel has very low risk factor instead of two wheel\n",
    "## 4. As the cylinder increases from 2 to 12, the size of engine also increases\n",
    "## 5. Sedan and Hatchback vehicles are highly preferred\n",
    "## 6. Price is highly impacted by size of engine &weight of curb\n",
    "## 7. Cars having high prices decreases risk factor, mpg in city and highway"
   ]
  }
 ],
 "metadata": {
  "kernelspec": {
   "display_name": "Python 3 (ipykernel)",
   "language": "python",
   "name": "python3"
  },
  "language_info": {
   "codemirror_mode": {
    "name": "ipython",
    "version": 3
   },
   "file_extension": ".py",
   "mimetype": "text/x-python",
   "name": "python",
   "nbconvert_exporter": "python",
   "pygments_lexer": "ipython3",
   "version": "3.9.13"
  }
 },
 "nbformat": 4,
 "nbformat_minor": 5
}
